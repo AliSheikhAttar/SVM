{
  "nbformat": 4,
  "nbformat_minor": 0,
  "metadata": {
    "colab": {
      "provenance": [],
      "gpuType": "T4"
    },
    "kernelspec": {
      "name": "python3",
      "display_name": "Python 3"
    },
    "language_info": {
      "name": "python"
    },
    "accelerator": "GPU",
    "gpuClass": "standard"
  },
  "cells": [
    {
      "cell_type": "code",
      "execution_count": 67,
      "metadata": {
        "id": "olsPsGa9cP13"
      },
      "outputs": [],
      "source": [
        "from scipy.stats import mode\n",
        "import numpy as np\n",
        "#from mnist import MNIST\n",
        "from time import time\n",
        "import pandas as pd\n",
        "import os\n",
        "import matplotlib.pyplot as matplot\n",
        "import matplotlib\n",
        "%matplotlib inline\n",
        "\n",
        "import random\n",
        "matplot.rcdefaults()\n",
        "from IPython.display import display, HTML\n",
        "from itertools import chain\n",
        "from sklearn.metrics import confusion_matrix\n",
        "from sklearn.metrics import accuracy_score\n",
        "import seaborn as sb\n",
        "from sklearn.model_selection import ParameterGrid\n",
        "from sklearn.svm import SVC, LinearSVC\n",
        "import warnings\n",
        "import tensorflow_datasets as tfds\n",
        "import tensorflow as tf\n",
        "warnings.filterwarnings('ignore')"
      ]
    },
    {
      "cell_type": "code",
      "source": [
        "mnist = tf.keras.datasets.mnist\n",
        "\n",
        "from keras.utils import to_categorical"
      ],
      "metadata": {
        "id": "0T19kKLQfdQW"
      },
      "execution_count": 120,
      "outputs": []
    },
    {
      "cell_type": "code",
      "source": [
        "import zipfile,cv2"
      ],
      "metadata": {
        "id": "_7jYr83jtbKY"
      },
      "execution_count": 118,
      "outputs": []
    },
    {
      "cell_type": "code",
      "source": [
        "\n",
        "local_zip = '/content/USPS_images.zip'\n",
        "zip_ref = zipfile.ZipFile(local_zip, 'r')\n",
        "zip_ref.extractall('/content/trainntest')\n",
        "\n",
        "train_dir = '/content/trainntest/train'\n",
        "validation_dir = '/content/trainntest/test'\n",
        "y_train = []\n",
        "y_test = []\n",
        "for path in os.listdir(train_dir):\n",
        "    if os.path.isfile(os.path.join(train_dir, path)):\n",
        "        y_train.append(int(path[0]))\n",
        "\n",
        "for path in os.listdir(validation_dir):\n",
        "  if os.path.isfile(os.path.join(validation_dir, path)):\n",
        "      y_test.append(int(path[0]))\n",
        "\n",
        "x_train = []\n",
        "for path in os.listdir(train_dir):\n",
        "  if os.path.isfile(os.path.join(train_dir,path)):\n",
        "    x_train.append(cv2.cvtColor(cv2.imread(f\"{train_dir}/{path}\"), cv2.COLOR_RGB2GRAY))\n",
        "\n",
        "x_test = []\n",
        "for path in os.listdir(validation_dir):\n",
        "  if os.path.isfile(os.path.join(validation_dir,path)):\n",
        "    x_test.append(cv2.cvtColor(cv2.imread(f\"{validation_dir}/{path}\"), cv2.COLOR_RGB2GRAY))\n",
        "\n",
        "x_train = np.array(x_train)\n",
        "x_test = np.array(x_test)\n",
        "y_train = np.array(y_train)\n",
        "y_test = np.array(y_test)\n",
        "\n",
        "\n",
        "x_train_final = x_train.reshape(-1 ,16*16) / 255\n",
        "x_test_final = x_test.reshape(-1 ,16*16) / 255\n",
        "\n"
      ],
      "metadata": {
        "id": "IefDsaQ6tWEJ"
      },
      "execution_count": 131,
      "outputs": []
    },
    {
      "cell_type": "code",
      "source": [
        "train, trlab, test, tslab  = x_train_final, y_train, x_test_final, y_test"
      ],
      "metadata": {
        "id": "7comQ0OVeVX-"
      },
      "execution_count": 132,
      "outputs": []
    },
    {
      "cell_type": "code",
      "source": [
        "train.shape"
      ],
      "metadata": {
        "colab": {
          "base_uri": "https://localhost:8080/"
        },
        "id": "eA5nDdTXuA6W",
        "outputId": "644d7693-176f-4243-8463-a423b9f86111"
      },
      "execution_count": 126,
      "outputs": [
        {
          "output_type": "execute_result",
          "data": {
            "text/plain": [
              "(7291, 256)"
            ]
          },
          "metadata": {},
          "execution_count": 126
        }
      ]
    },
    {
      "cell_type": "code",
      "source": [
        "def pick(train, trlab, test, tslab, percentage):\n",
        "  train = train[:int(len(train)*percentage)]\n",
        "  test = test[:int(len(test)*percentage)]\n",
        "  trlab = trlab[:int(len(trlab)*percentage)]\n",
        "  tslab = tslab[:int(len(tslab)*percentage)]\n",
        "  return train, trlab, test, tslab"
      ],
      "metadata": {
        "id": "gpAPBC0tk_Hm"
      },
      "execution_count": 133,
      "outputs": []
    },
    {
      "cell_type": "code",
      "source": [
        "train, trlab, test, tslab = pick(train, trlab, test, tslab, 0.05)"
      ],
      "metadata": {
        "id": "Gaj5WrGmldIk"
      },
      "execution_count": 134,
      "outputs": []
    },
    {
      "cell_type": "code",
      "source": [
        "svm = LinearSVC(dual=False, verbose=1)\n",
        "svm.fit(train, trlab)"
      ],
      "metadata": {
        "colab": {
          "base_uri": "https://localhost:8080/",
          "height": 92
        },
        "id": "AhBIL8NXiPYG",
        "outputId": "8e636765-148b-4ba4-a4fc-cba3795e397d"
      },
      "execution_count": 135,
      "outputs": [
        {
          "output_type": "stream",
          "name": "stdout",
          "text": [
            "[LibLinear]"
          ]
        },
        {
          "output_type": "execute_result",
          "data": {
            "text/plain": [
              "LinearSVC(dual=False, verbose=1)"
            ],
            "text/html": [
              "<style>#sk-container-id-8 {color: black;background-color: white;}#sk-container-id-8 pre{padding: 0;}#sk-container-id-8 div.sk-toggleable {background-color: white;}#sk-container-id-8 label.sk-toggleable__label {cursor: pointer;display: block;width: 100%;margin-bottom: 0;padding: 0.3em;box-sizing: border-box;text-align: center;}#sk-container-id-8 label.sk-toggleable__label-arrow:before {content: \"▸\";float: left;margin-right: 0.25em;color: #696969;}#sk-container-id-8 label.sk-toggleable__label-arrow:hover:before {color: black;}#sk-container-id-8 div.sk-estimator:hover label.sk-toggleable__label-arrow:before {color: black;}#sk-container-id-8 div.sk-toggleable__content {max-height: 0;max-width: 0;overflow: hidden;text-align: left;background-color: #f0f8ff;}#sk-container-id-8 div.sk-toggleable__content pre {margin: 0.2em;color: black;border-radius: 0.25em;background-color: #f0f8ff;}#sk-container-id-8 input.sk-toggleable__control:checked~div.sk-toggleable__content {max-height: 200px;max-width: 100%;overflow: auto;}#sk-container-id-8 input.sk-toggleable__control:checked~label.sk-toggleable__label-arrow:before {content: \"▾\";}#sk-container-id-8 div.sk-estimator input.sk-toggleable__control:checked~label.sk-toggleable__label {background-color: #d4ebff;}#sk-container-id-8 div.sk-label input.sk-toggleable__control:checked~label.sk-toggleable__label {background-color: #d4ebff;}#sk-container-id-8 input.sk-hidden--visually {border: 0;clip: rect(1px 1px 1px 1px);clip: rect(1px, 1px, 1px, 1px);height: 1px;margin: -1px;overflow: hidden;padding: 0;position: absolute;width: 1px;}#sk-container-id-8 div.sk-estimator {font-family: monospace;background-color: #f0f8ff;border: 1px dotted black;border-radius: 0.25em;box-sizing: border-box;margin-bottom: 0.5em;}#sk-container-id-8 div.sk-estimator:hover {background-color: #d4ebff;}#sk-container-id-8 div.sk-parallel-item::after {content: \"\";width: 100%;border-bottom: 1px solid gray;flex-grow: 1;}#sk-container-id-8 div.sk-label:hover label.sk-toggleable__label {background-color: #d4ebff;}#sk-container-id-8 div.sk-serial::before {content: \"\";position: absolute;border-left: 1px solid gray;box-sizing: border-box;top: 0;bottom: 0;left: 50%;z-index: 0;}#sk-container-id-8 div.sk-serial {display: flex;flex-direction: column;align-items: center;background-color: white;padding-right: 0.2em;padding-left: 0.2em;position: relative;}#sk-container-id-8 div.sk-item {position: relative;z-index: 1;}#sk-container-id-8 div.sk-parallel {display: flex;align-items: stretch;justify-content: center;background-color: white;position: relative;}#sk-container-id-8 div.sk-item::before, #sk-container-id-8 div.sk-parallel-item::before {content: \"\";position: absolute;border-left: 1px solid gray;box-sizing: border-box;top: 0;bottom: 0;left: 50%;z-index: -1;}#sk-container-id-8 div.sk-parallel-item {display: flex;flex-direction: column;z-index: 1;position: relative;background-color: white;}#sk-container-id-8 div.sk-parallel-item:first-child::after {align-self: flex-end;width: 50%;}#sk-container-id-8 div.sk-parallel-item:last-child::after {align-self: flex-start;width: 50%;}#sk-container-id-8 div.sk-parallel-item:only-child::after {width: 0;}#sk-container-id-8 div.sk-dashed-wrapped {border: 1px dashed gray;margin: 0 0.4em 0.5em 0.4em;box-sizing: border-box;padding-bottom: 0.4em;background-color: white;}#sk-container-id-8 div.sk-label label {font-family: monospace;font-weight: bold;display: inline-block;line-height: 1.2em;}#sk-container-id-8 div.sk-label-container {text-align: center;}#sk-container-id-8 div.sk-container {/* jupyter's `normalize.less` sets `[hidden] { display: none; }` but bootstrap.min.css set `[hidden] { display: none !important; }` so we also need the `!important` here to be able to override the default hidden behavior on the sphinx rendered scikit-learn.org. See: https://github.com/scikit-learn/scikit-learn/issues/21755 */display: inline-block !important;position: relative;}#sk-container-id-8 div.sk-text-repr-fallback {display: none;}</style><div id=\"sk-container-id-8\" class=\"sk-top-container\"><div class=\"sk-text-repr-fallback\"><pre>LinearSVC(dual=False, verbose=1)</pre><b>In a Jupyter environment, please rerun this cell to show the HTML representation or trust the notebook. <br />On GitHub, the HTML representation is unable to render, please try loading this page with nbviewer.org.</b></div><div class=\"sk-container\" hidden><div class=\"sk-item\"><div class=\"sk-estimator sk-toggleable\"><input class=\"sk-toggleable__control sk-hidden--visually\" id=\"sk-estimator-id-8\" type=\"checkbox\" checked><label for=\"sk-estimator-id-8\" class=\"sk-toggleable__label sk-toggleable__label-arrow\">LinearSVC</label><div class=\"sk-toggleable__content\"><pre>LinearSVC(dual=False, verbose=1)</pre></div></div></div></div></div>"
            ]
          },
          "metadata": {},
          "execution_count": 135
        }
      ]
    },
    {
      "cell_type": "code",
      "source": [
        "svm.coef_\n",
        "svm.intercept_"
      ],
      "metadata": {
        "colab": {
          "base_uri": "https://localhost:8080/"
        },
        "id": "tG2Eg1Sjjra2",
        "outputId": "2d4bc742-7c55-47b1-9a8f-de210c38b594"
      },
      "execution_count": 136,
      "outputs": [
        {
          "output_type": "execute_result",
          "data": {
            "text/plain": [
              "array([-0.71078573, -0.23419634, -0.16636508, -0.76613492, -0.01311585,\n",
              "       -0.62888266, -0.28157165, -0.01484649, -0.55359038, -0.76468539])"
            ]
          },
          "metadata": {},
          "execution_count": 136
        }
      ]
    },
    {
      "cell_type": "code",
      "source": [
        "pred = svm.predict(test)"
      ],
      "metadata": {
        "id": "waMiKn24juwD"
      },
      "execution_count": 137,
      "outputs": []
    },
    {
      "cell_type": "code",
      "source": [
        "accuracy_score(tslab, pred) # Accuracy"
      ],
      "metadata": {
        "colab": {
          "base_uri": "https://localhost:8080/"
        },
        "id": "PZeB8s-AkZft",
        "outputId": "a1e45ed6-76bd-48df-b5e4-c04fff0c988b"
      },
      "execution_count": 138,
      "outputs": [
        {
          "output_type": "execute_result",
          "data": {
            "text/plain": [
              "0.79"
            ]
          },
          "metadata": {},
          "execution_count": 138
        }
      ]
    },
    {
      "cell_type": "code",
      "source": [
        "cm = confusion_matrix(tslab, pred)\n",
        "matplot.subplots(figsize=(10, 6))\n",
        "sb.heatmap(cm, annot = True, fmt = 'g')\n",
        "matplot.xlabel(\"Predicted\")\n",
        "matplot.ylabel(\"Actual\")\n",
        "matplot.title(\"Confusion Matrix\")\n",
        "matplot.show()"
      ],
      "metadata": {
        "colab": {
          "base_uri": "https://localhost:8080/",
          "height": 564
        },
        "id": "urmeKoelkiZ5",
        "outputId": "b25da815-ecb4-4cdd-a4bb-a2144947f7b6"
      },
      "execution_count": 139,
      "outputs": [
        {
          "output_type": "display_data",
          "data": {
            "text/plain": [
              "<Figure size 1000x600 with 2 Axes>"
            ],
            "image/png": "[encoded data removed]"
          },
          "metadata": {}
        }
      ]
    },
    {
      "cell_type": "markdown",
      "source": [
        "**with Penalty(L2)**\n",
        "power 2"
      ],
      "metadata": {
        "id": "DMFKuyrMpwi-"
      }
    },
    {
      "cell_type": "code",
      "source": [
        "acc = []\n",
        "acc_tr = []\n",
        "coefficient = []\n",
        "for c in [0.0001,0.001,0.01,0.1,1,10,100,1000,10000]:\n",
        "    svm = LinearSVC(dual=False, C=c)\n",
        "    svm.fit(train, trlab)\n",
        "    coef = svm.coef_\n",
        "    \n",
        "    p_tr = svm.predict(train)\n",
        "    a_tr = accuracy_score(trlab, p_tr)\n",
        "    \n",
        "    pred = svm.predict(test)\n",
        "    a = accuracy_score(tslab, pred)\n",
        "    \n",
        "    coefficient.append(coef)\n",
        "    acc_tr.append(a_tr)\n",
        "    acc.append(a)\n",
        "    print(f\"done for {c}\")"
      ],
      "metadata": {
        "colab": {
          "base_uri": "https://localhost:8080/"
        },
        "id": "W3f_LmWckw4e",
        "outputId": "301e74c5-edc9-449d-a2c0-b628192a0433"
      },
      "execution_count": 140,
      "outputs": [
        {
          "output_type": "stream",
          "name": "stdout",
          "text": [
            "done for 0.0001\n",
            "done for 0.001\n",
            "done for 0.01\n",
            "done for 0.1\n",
            "done for 1\n",
            "done for 10\n",
            "done for 100\n",
            "done for 1000\n",
            "done for 10000\n"
          ]
        }
      ]
    },
    {
      "cell_type": "code",
      "source": [
        "c = [0.0001,0.001,0.01,0.1,1,10,100,1000,10000]\n",
        "\n",
        "matplot.subplots(figsize=(10, 5))\n",
        "matplot.semilogx(c, acc,'-gD' ,color='red' , label=\"Testing Accuracy\")\n",
        "matplot.semilogx(c, acc_tr,'-gD' , label=\"Training Accuracy\")\n",
        "#matplot.xticks(L,L)\n",
        "matplot.grid(True)\n",
        "matplot.xlabel(\"Cost Parameter C\")\n",
        "matplot.ylabel(\"Accuracy\")\n",
        "matplot.legend()\n",
        "matplot.title('Accuracy versus the Cost Parameter C (log-scale)')\n",
        "matplot.show()"
      ],
      "metadata": {
        "colab": {
          "base_uri": "https://localhost:8080/",
          "height": 492
        },
        "id": "jQXovqdPmGMe",
        "outputId": "0dbf62ae-4909-4c94-bc80-da030f3b3238"
      },
      "execution_count": 141,
      "outputs": [
        {
          "output_type": "display_data",
          "data": {
            "text/plain": [
              "<Figure size 1000x500 with 1 Axes>"
            ],
            "image/png": "[encoded data removed]"
          },
          "metadata": {}
        }
      ]
    },
    {
      "cell_type": "markdown",
      "source": [
        "**c = 1 : the Best**"
      ],
      "metadata": {
        "id": "8wGOGUd7pdlB"
      }
    },
    {
      "cell_type": "code",
      "source": [
        "svm_coef = coefficient[4]\n",
        "svm_coef.shape"
      ],
      "metadata": {
        "colab": {
          "base_uri": "https://localhost:8080/"
        },
        "id": "xsOekkC1ol4s",
        "outputId": "4c076562-4172-4f5b-dd1b-736fce9e8de8"
      },
      "execution_count": 142,
      "outputs": [
        {
          "output_type": "execute_result",
          "data": {
            "text/plain": [
              "(10, 256)"
            ]
          },
          "metadata": {},
          "execution_count": 142
        }
      ]
    },
    {
      "cell_type": "code",
      "source": [
        "matplot.subplots(2,5, figsize=(24,10))\n",
        "for i in range(10):\n",
        "    l1 = matplot.subplot(2, 5, i + 1)\n",
        "    l1.imshow(svm_coef[i].reshape(16, 16), cmap=matplot.cm.RdBu)\n",
        "    l1.set_xticks(())\n",
        "    l1.set_yticks(())\n",
        "    l1.set_xlabel('Class %i' % i)\n",
        "matplot.suptitle('Class Coefficients')\n",
        "matplot.show()"
      ],
      "metadata": {
        "colab": {
          "base_uri": "https://localhost:8080/",
          "height": 546
        },
        "id": "OgrnS1pJooOF",
        "outputId": "3bb2a289-7b5e-4539-d117-9055d73d8270"
      },
      "execution_count": 167,
      "outputs": [
        {
          "output_type": "display_data",
          "data": {
            "text/plain": [
              "<Figure size 2400x1000 with 10 Axes>"
            ],
            "image/png": "[encoded data removed]"
          },
          "metadata": {}
        }
      ]
    },
    {
      "cell_type": "markdown",
      "source": [
        "**With Penalty (L1)**"
      ],
      "metadata": {
        "id": "uc4fnXQfo7bJ"
      }
    },
    {
      "cell_type": "code",
      "source": [
        "acc = []\n",
        "acc_tr = []\n",
        "coefficient = []\n",
        "for c in [0.0001,0.001,0.01,0.1,1,10,100,1000,10000]:\n",
        "    svm = LinearSVC(dual=False, C=c, penalty='l1')\n",
        "    svm.fit(train, trlab)\n",
        "    coef = svm.coef_\n",
        "    \n",
        "    p_tr = svm.predict(train)\n",
        "    a_tr = accuracy_score(trlab, p_tr)\n",
        "    \n",
        "    pred = svm.predict(test)\n",
        "    a = accuracy_score(tslab, pred)\n",
        "    \n",
        "    coefficient.append(coef)\n",
        "    acc_tr.append(a_tr)\n",
        "    acc.append(a)"
      ],
      "metadata": {
        "id": "trBvzKUro-FL"
      },
      "execution_count": 144,
      "outputs": []
    },
    {
      "cell_type": "code",
      "source": [
        "c = [0.0001,0.001,0.01,0.1,1,10,100,1000,10000]\n",
        "\n",
        "matplot.subplots(figsize=(10, 5))\n",
        "matplot.semilogx(c, acc,'-gD' ,color='red' , label=\"Testing Accuracy\")\n",
        "matplot.semilogx(c, acc_tr,'-gD' , label=\"Training Accuracy\")\n",
        "#matplot.xticks(L,L)\n",
        "matplot.grid(True)\n",
        "matplot.xlabel(\"Cost Parameter C\")\n",
        "matplot.ylabel(\"Accuracy\")\n",
        "matplot.legend()\n",
        "matplot.title('Accuracy versus the Cost Parameter C (log-scale)')\n",
        "matplot.show()"
      ],
      "metadata": {
        "colab": {
          "base_uri": "https://localhost:8080/",
          "height": 492
        },
        "id": "RjV8U1wspGrg",
        "outputId": "642e4fff-531a-480f-f7b7-3158c6d7f4a1"
      },
      "execution_count": 145,
      "outputs": [
        {
          "output_type": "display_data",
          "data": {
            "text/plain": [
              "<Figure size 1000x500 with 1 Axes>"
            ],
            "image/png": "[encoded data removed]"
          },
          "metadata": {}
        }
      ]
    },
    {
      "cell_type": "markdown",
      "source": [
        "**c = 1 : the Best**"
      ],
      "metadata": {
        "id": "JbtcATFPpPz6"
      }
    },
    {
      "cell_type": "code",
      "source": [
        "svm_coef = coefficient[4]\n",
        "svm_coef.shape"
      ],
      "metadata": {
        "colab": {
          "base_uri": "https://localhost:8080/"
        },
        "id": "yyuwAy41pMHn",
        "outputId": "4c71ec3c-793d-4303-c96b-b9c47ddaa99a"
      },
      "execution_count": 146,
      "outputs": [
        {
          "output_type": "execute_result",
          "data": {
            "text/plain": [
              "(10, 256)"
            ]
          },
          "metadata": {},
          "execution_count": 146
        }
      ]
    },
    {
      "cell_type": "code",
      "source": [
        "matplot.subplots(2,5, figsize=(24,10))\n",
        "for i in range(10):\n",
        "    l1 = matplot.subplot(2, 5, i + 1)\n",
        "    l1.imshow(svm_coef[i].reshape(16, 16), cmap=matplot.cm.RdBu)\n",
        "    l1.set_xticks(())\n",
        "    l1.set_yticks(())\n",
        "    l1.set_xlabel('Class %i' % i)\n",
        "matplot.suptitle('Class Coefficients')\n",
        "matplot.show()"
      ],
      "metadata": {
        "colab": {
          "base_uri": "https://localhost:8080/",
          "height": 546
        },
        "id": "OJgfE3H1pO6y",
        "outputId": "95302ae8-575d-4b0c-dd1d-56413d720627"
      },
      "execution_count": 168,
      "outputs": [
        {
          "output_type": "display_data",
          "data": {
            "text/plain": [
              "<Figure size 2400x1000 with 10 Axes>"
            ],
            "image/png": "[encoded data removed]"
          },
          "metadata": {}
        }
      ]
    },
    {
      "cell_type": "markdown",
      "source": [
        "**SVM RBF Kernel**"
      ],
      "metadata": {
        "id": "ESFwaL3jpkrA"
      }
    },
    {
      "cell_type": "markdown",
      "source": [
        "generate a random sample of the data and check how the distribution is compared to the original distribution"
      ],
      "metadata": {
        "id": "y9goGkYQqUy_"
      }
    },
    {
      "cell_type": "code",
      "source": [
        "seq = np.random.randint(0,len(train),int(0.6*(len(train))))\n",
        "train_samp = train[seq]\n",
        "trlab_samp = trlab[seq]\n",
        "\n",
        "train_samp.shape\n",
        "trlab_samp.shape"
      ],
      "metadata": {
        "colab": {
          "base_uri": "https://localhost:8080/"
        },
        "id": "affRSGc1qZqB",
        "outputId": "f3d8c11b-4b30-4e05-887b-32e65b672653"
      },
      "execution_count": 148,
      "outputs": [
        {
          "output_type": "execute_result",
          "data": {
            "text/plain": [
              "(218,)"
            ]
          },
          "metadata": {},
          "execution_count": 148
        }
      ]
    },
    {
      "cell_type": "code",
      "source": [
        "seq = np.random.randint(0,len(test),int(0.6*(len(test))))\n",
        "test_samp = test[seq]\n",
        "tslab_samp = tslab[seq]\n",
        "\n",
        "test_samp.shape\n",
        "tslab_samp.shape"
      ],
      "metadata": {
        "colab": {
          "base_uri": "https://localhost:8080/"
        },
        "id": "upUEXBB4qohz",
        "outputId": "0e11a877-a11d-4d38-e3e5-f79045f37ddb"
      },
      "execution_count": 149,
      "outputs": [
        {
          "output_type": "execute_result",
          "data": {
            "text/plain": [
              "(60,)"
            ]
          },
          "metadata": {},
          "execution_count": 149
        }
      ]
    },
    {
      "cell_type": "code",
      "source": [
        "fig, ax = matplot.subplots(1,2, figsize=(10,4))\n",
        "ax[0].hist(trlab_samp)\n",
        "ax[1].hist(trlab)\n",
        "fig.show\n",
        "matplot.show()"
      ],
      "metadata": {
        "colab": {
          "base_uri": "https://localhost:8080/",
          "height": 368
        },
        "id": "DbhPsTCgqz8v",
        "outputId": "6f93b757-d672-4145-eb8a-e26568979c89"
      },
      "execution_count": 150,
      "outputs": [
        {
          "output_type": "display_data",
          "data": {
            "text/plain": [
              "<Figure size 1000x400 with 2 Axes>"
            ],
            "image/png": "[encoded data removed]"
          },
          "metadata": {}
        }
      ]
    },
    {
      "cell_type": "markdown",
      "source": [
        "**Running SVC for multiple cost factor(s) C and Gamma**"
      ],
      "metadata": {
        "id": "VBI8UDrYq5h-"
      }
    },
    {
      "cell_type": "code",
      "source": [
        "coefficient = []\n",
        "n_supp = []\n",
        "sup_vec = []\n",
        "i = 0\n",
        "df = pd.DataFrame(columns = ['c','gamma','train_acc','test_acc'])\n",
        "for c in [0.01, 0.1, 1, 10, 100]:\n",
        "    for g in [0.01, 0.1, 1, 10, 100]:\n",
        "        svm = SVC(kernel='rbf', C=c, gamma=g)\n",
        "        model = svm.fit(train_samp, trlab_samp)\n",
        "        globals()['model%s' % i] = model\n",
        "        d_coef = svm.dual_coef_\n",
        "        support = svm.n_support_\n",
        "        sv = svm.support_\n",
        "    \n",
        "        p_tr = svm.predict(train_samp)\n",
        "        a_tr = accuracy_score(trlab_samp, p_tr)\n",
        "    \n",
        "        pred = svm.predict(test_samp)\n",
        "        a = accuracy_score(tslab_samp, pred)\n",
        "    \n",
        "        coefficient.append(d_coef)\n",
        "        n_supp.append(support)\n",
        "        sup_vec.append(sv)\n",
        "        df.loc[i] = [c,g,a_tr,a]\n",
        "        i=i+1"
      ],
      "metadata": {
        "id": "pVGCcOykq9rX"
      },
      "execution_count": 151,
      "outputs": []
    },
    {
      "cell_type": "code",
      "source": [
        "df"
      ],
      "metadata": {
        "colab": {
          "base_uri": "https://localhost:8080/",
          "height": 833
        },
        "id": "XA5g_A-drDKl",
        "outputId": "8b057105-77c9-44d1-c2c7-dbf139f64af5"
      },
      "execution_count": 152,
      "outputs": [
        {
          "output_type": "execute_result",
          "data": {
            "text/plain": [
              "         c   gamma  train_acc  test_acc\n",
              "0     0.01    0.01   0.215596  0.266667\n",
              "1     0.01    0.10   0.215596  0.266667\n",
              "2     0.01    1.00   0.215596  0.266667\n",
              "3     0.01   10.00   0.215596  0.266667\n",
              "4     0.01  100.00   0.215596  0.266667\n",
              "5     0.10    0.01   0.339450  0.333333\n",
              "6     0.10    0.10   0.330275  0.316667\n",
              "7     0.10    1.00   0.215596  0.266667\n",
              "8     0.10   10.00   0.215596  0.266667\n",
              "9     0.10  100.00   0.215596  0.266667\n",
              "10    1.00    0.01   0.981651  0.683333\n",
              "11    1.00    0.10   1.000000  0.516667\n",
              "12    1.00    1.00   1.000000  0.283333\n",
              "13    1.00   10.00   1.000000  0.266667\n",
              "14    1.00  100.00   1.000000  0.266667\n",
              "15   10.00    0.01   1.000000  0.783333\n",
              "16   10.00    0.10   1.000000  0.550000\n",
              "17   10.00    1.00   1.000000  0.300000\n",
              "18   10.00   10.00   1.000000  0.266667\n",
              "19   10.00  100.00   1.000000  0.266667\n",
              "20  100.00    0.01   1.000000  0.783333\n",
              "21  100.00    0.10   1.000000  0.550000\n",
              "22  100.00    1.00   1.000000  0.300000\n",
              "23  100.00   10.00   1.000000  0.266667\n",
              "24  100.00  100.00   1.000000  0.266667"
            ],
            "text/html": [
              "\n",
              "  <div id=\"df-c60effc4-6845-44f3-8979-9914fb477c79\">\n",
              "    <div class=\"colab-df-container\">\n",
              "      <div>\n",
              "<style scoped>\n",
              "    .dataframe tbody tr th:only-of-type {\n",
              "        vertical-align: middle;\n",
              "    }\n",
              "\n",
              "    .dataframe tbody tr th {\n",
              "        vertical-align: top;\n",
              "    }\n",
              "\n",
              "    .dataframe thead th {\n",
              "        text-align: right;\n",
              "    }\n",
              "</style>\n",
              "<table border=\"1\" class=\"dataframe\">\n",
              "  <thead>\n",
              "    <tr style=\"text-align: right;\">\n",
              "      <th></th>\n",
              "      <th>c</th>\n",
              "      <th>gamma</th>\n",
              "      <th>train_acc</th>\n",
              "      <th>test_acc</th>\n",
              "    </tr>\n",
              "  </thead>\n",
              "  <tbody>\n",
              "    <tr>\n",
              "      <th>0</th>\n",
              "      <td>0.01</td>\n",
              "      <td>0.01</td>\n",
              "      <td>0.215596</td>\n",
              "      <td>0.266667</td>\n",
              "    </tr>\n",
              "    <tr>\n",
              "      <th>1</th>\n",
              "      <td>0.01</td>\n",
              "      <td>0.10</td>\n",
              "      <td>0.215596</td>\n",
              "      <td>0.266667</td>\n",
              "    </tr>\n",
              "    <tr>\n",
              "      <th>2</th>\n",
              "      <td>0.01</td>\n",
              "      <td>1.00</td>\n",
              "      <td>0.215596</td>\n",
              "      <td>0.266667</td>\n",
              "    </tr>\n",
              "    <tr>\n",
              "      <th>3</th>\n",
              "      <td>0.01</td>\n",
              "      <td>10.00</td>\n",
              "      <td>0.215596</td>\n",
              "      <td>0.266667</td>\n",
              "    </tr>\n",
              "    <tr>\n",
              "      <th>4</th>\n",
              "      <td>0.01</td>\n",
              "      <td>100.00</td>\n",
              "      <td>0.215596</td>\n",
              "      <td>0.266667</td>\n",
              "    </tr>\n",
              "    <tr>\n",
              "      <th>5</th>\n",
              "      <td>0.10</td>\n",
              "      <td>0.01</td>\n",
              "      <td>0.339450</td>\n",
              "      <td>0.333333</td>\n",
              "    </tr>\n",
              "    <tr>\n",
              "      <th>6</th>\n",
              "      <td>0.10</td>\n",
              "      <td>0.10</td>\n",
              "      <td>0.330275</td>\n",
              "      <td>0.316667</td>\n",
              "    </tr>\n",
              "    <tr>\n",
              "      <th>7</th>\n",
              "      <td>0.10</td>\n",
              "      <td>1.00</td>\n",
              "      <td>0.215596</td>\n",
              "      <td>0.266667</td>\n",
              "    </tr>\n",
              "    <tr>\n",
              "      <th>8</th>\n",
              "      <td>0.10</td>\n",
              "      <td>10.00</td>\n",
              "      <td>0.215596</td>\n",
              "      <td>0.266667</td>\n",
              "    </tr>\n",
              "    <tr>\n",
              "      <th>9</th>\n",
              "      <td>0.10</td>\n",
              "      <td>100.00</td>\n",
              "      <td>0.215596</td>\n",
              "      <td>0.266667</td>\n",
              "    </tr>\n",
              "    <tr>\n",
              "      <th>10</th>\n",
              "      <td>1.00</td>\n",
              "      <td>0.01</td>\n",
              "      <td>0.981651</td>\n",
              "      <td>0.683333</td>\n",
              "    </tr>\n",
              "    <tr>\n",
              "      <th>11</th>\n",
              "      <td>1.00</td>\n",
              "      <td>0.10</td>\n",
              "      <td>1.000000</td>\n",
              "      <td>0.516667</td>\n",
              "    </tr>\n",
              "    <tr>\n",
              "      <th>12</th>\n",
              "      <td>1.00</td>\n",
              "      <td>1.00</td>\n",
              "      <td>1.000000</td>\n",
              "      <td>0.283333</td>\n",
              "    </tr>\n",
              "    <tr>\n",
              "      <th>13</th>\n",
              "      <td>1.00</td>\n",
              "      <td>10.00</td>\n",
              "      <td>1.000000</td>\n",
              "      <td>0.266667</td>\n",
              "    </tr>\n",
              "    <tr>\n",
              "      <th>14</th>\n",
              "      <td>1.00</td>\n",
              "      <td>100.00</td>\n",
              "      <td>1.000000</td>\n",
              "      <td>0.266667</td>\n",
              "    </tr>\n",
              "    <tr>\n",
              "      <th>15</th>\n",
              "      <td>10.00</td>\n",
              "      <td>0.01</td>\n",
              "      <td>1.000000</td>\n",
              "      <td>0.783333</td>\n",
              "    </tr>\n",
              "    <tr>\n",
              "      <th>16</th>\n",
              "      <td>10.00</td>\n",
              "      <td>0.10</td>\n",
              "      <td>1.000000</td>\n",
              "      <td>0.550000</td>\n",
              "    </tr>\n",
              "    <tr>\n",
              "      <th>17</th>\n",
              "      <td>10.00</td>\n",
              "      <td>1.00</td>\n",
              "      <td>1.000000</td>\n",
              "      <td>0.300000</td>\n",
              "    </tr>\n",
              "    <tr>\n",
              "      <th>18</th>\n",
              "      <td>10.00</td>\n",
              "      <td>10.00</td>\n",
              "      <td>1.000000</td>\n",
              "      <td>0.266667</td>\n",
              "    </tr>\n",
              "    <tr>\n",
              "      <th>19</th>\n",
              "      <td>10.00</td>\n",
              "      <td>100.00</td>\n",
              "      <td>1.000000</td>\n",
              "      <td>0.266667</td>\n",
              "    </tr>\n",
              "    <tr>\n",
              "      <th>20</th>\n",
              "      <td>100.00</td>\n",
              "      <td>0.01</td>\n",
              "      <td>1.000000</td>\n",
              "      <td>0.783333</td>\n",
              "    </tr>\n",
              "    <tr>\n",
              "      <th>21</th>\n",
              "      <td>100.00</td>\n",
              "      <td>0.10</td>\n",
              "      <td>1.000000</td>\n",
              "      <td>0.550000</td>\n",
              "    </tr>\n",
              "    <tr>\n",
              "      <th>22</th>\n",
              "      <td>100.00</td>\n",
              "      <td>1.00</td>\n",
              "      <td>1.000000</td>\n",
              "      <td>0.300000</td>\n",
              "    </tr>\n",
              "    <tr>\n",
              "      <th>23</th>\n",
              "      <td>100.00</td>\n",
              "      <td>10.00</td>\n",
              "      <td>1.000000</td>\n",
              "      <td>0.266667</td>\n",
              "    </tr>\n",
              "    <tr>\n",
              "      <th>24</th>\n",
              "      <td>100.00</td>\n",
              "      <td>100.00</td>\n",
              "      <td>1.000000</td>\n",
              "      <td>0.266667</td>\n",
              "    </tr>\n",
              "  </tbody>\n",
              "</table>\n",
              "</div>\n",
              "      <button class=\"colab-df-convert\" onclick=\"convertToInteractive('df-c60effc4-6845-44f3-8979-9914fb477c79')\"\n",
              "              title=\"Convert this dataframe to an interactive table.\"\n",
              "              style=\"display:none;\">\n",
              "        \n",
              "  <svg xmlns=\"http://www.w3.org/2000/svg\" height=\"24px\"viewBox=\"0 0 24 24\"\n",
              "       width=\"24px\">\n",
              "    <path d=\"M0 0h24v24H0V0z\" fill=\"none\"/>\n",
              "    <path d=\"M18.56 5.44l.94 2.06.94-2.06 2.06-.94-2.06-.94-.94-2.06-.94 2.06-2.06.94zm-11 1L8.5 8.5l.94-2.06 2.06-.94-2.06-.94L8.5 2.5l-.94 2.06-2.06.94zm10 10l.94 2.06.94-2.06 2.06-.94-2.06-.94-.94-2.06-.94 2.06-2.06.94z\"/><path d=\"M17.41 7.96l-1.37-1.37c-.4-.4-.92-.59-1.43-.59-.52 0-1.04.2-1.43.59L10.3 9.45l-7.72 7.72c-.78.78-.78 2.05 0 2.83L4 21.41c.39.39.9.59 1.41.59.51 0 1.02-.2 1.41-.59l7.78-7.78 2.81-2.81c.8-.78.8-2.07 0-2.86zM5.41 20L4 18.59l7.72-7.72 1.47 1.35L5.41 20z\"/>\n",
              "  </svg>\n",
              "      </button>\n",
              "      \n",
              "  <style>\n",
              "    .colab-df-container {\n",
              "      display:flex;\n",
              "      flex-wrap:wrap;\n",
              "      gap: 12px;\n",
              "    }\n",
              "\n",
              "    .colab-df-convert {\n",
              "      background-color: #E8F0FE;\n",
              "      border: none;\n",
              "      border-radius: 50%;\n",
              "      cursor: pointer;\n",
              "      display: none;\n",
              "      fill: #1967D2;\n",
              "      height: 32px;\n",
              "      padding: 0 0 0 0;\n",
              "      width: 32px;\n",
              "    }\n",
              "\n",
              "    .colab-df-convert:hover {\n",
              "      background-color: #E2EBFA;\n",
              "      box-shadow: 0px 1px 2px rgba(60, 64, 67, 0.3), 0px 1px 3px 1px rgba(60, 64, 67, 0.15);\n",
              "      fill: #174EA6;\n",
              "    }\n",
              "\n",
              "    [theme=dark] .colab-df-convert {\n",
              "      background-color: #3B4455;\n",
              "      fill: #D2E3FC;\n",
              "    }\n",
              "\n",
              "    [theme=dark] .colab-df-convert:hover {\n",
              "      background-color: #434B5C;\n",
              "      box-shadow: 0px 1px 3px 1px rgba(0, 0, 0, 0.15);\n",
              "      filter: drop-shadow(0px 1px 2px rgba(0, 0, 0, 0.3));\n",
              "      fill: #FFFFFF;\n",
              "    }\n",
              "  </style>\n",
              "\n",
              "      <script>\n",
              "        const buttonEl =\n",
              "          document.querySelector('#df-c60effc4-6845-44f3-8979-9914fb477c79 button.colab-df-convert');\n",
              "        buttonEl.style.display =\n",
              "          google.colab.kernel.accessAllowed ? 'block' : 'none';\n",
              "\n",
              "        async function convertToInteractive(key) {\n",
              "          const element = document.querySelector('#df-c60effc4-6845-44f3-8979-9914fb477c79');\n",
              "          const dataTable =\n",
              "            await google.colab.kernel.invokeFunction('convertToInteractive',\n",
              "                                                     [key], {});\n",
              "          if (!dataTable) return;\n",
              "\n",
              "          const docLinkHtml = 'Like what you see? Visit the ' +\n",
              "            '<a target=\"_blank\" href=https://colab.research.google.com/notebooks/data_table.ipynb>data table notebook</a>'\n",
              "            + ' to learn more about interactive tables.';\n",
              "          element.innerHTML = '';\n",
              "          dataTable['output_type'] = 'display_data';\n",
              "          await google.colab.output.renderOutput(dataTable, element);\n",
              "          const docLink = document.createElement('div');\n",
              "          docLink.innerHTML = docLinkHtml;\n",
              "          element.appendChild(docLink);\n",
              "        }\n",
              "      </script>\n",
              "    </div>\n",
              "  </div>\n",
              "  "
            ]
          },
          "metadata": {},
          "execution_count": 152
        }
      ]
    },
    {
      "cell_type": "markdown",
      "source": [
        "We choose C=10 and Gamma=0.01 to look at the Support vectors"
      ],
      "metadata": {
        "id": "7BPVl8oMrIsI"
      }
    },
    {
      "cell_type": "code",
      "source": [
        "pd.DataFrame(coefficient[15]) # dual_coef_"
      ],
      "metadata": {
        "colab": {
          "base_uri": "https://localhost:8080/",
          "height": 425
        },
        "id": "HcPLYED1rMVL",
        "outputId": "885ee6ee-c8b8-4c0b-b2f8-e1314b5b47ee"
      },
      "execution_count": 153,
      "outputs": [
        {
          "output_type": "execute_result",
          "data": {
            "text/plain": [
              "        0         1         2         3         4         5         6    \\\n",
              "0  0.000000  0.000000  0.000000  1.872539  0.115037  0.580169  0.350401   \n",
              "1  0.000000  0.000000  0.000000  2.921092  0.937161  1.180128  0.664450   \n",
              "2  0.000000  0.000000  0.000000  1.137607  2.910987  0.866366  1.328341   \n",
              "3  0.000000  0.000000  0.000000  2.396583  1.451280  0.482983  0.704460   \n",
              "4  0.000000  0.511052  0.725943  2.103932  1.858317  2.402295  0.579688   \n",
              "5  0.093692  0.000000  1.306066  1.938061  0.000000  3.220229  1.009864   \n",
              "6  0.000000  0.000000  0.570691  4.634641  0.576963  0.000000  0.449442   \n",
              "7  0.000000  0.000000  0.000000  3.938056  2.123071  1.164727  0.787982   \n",
              "8  0.000000  0.000000  0.039906  3.644141  1.957336  0.565469  0.228451   \n",
              "\n",
              "        7         8         9    ...       126       127       128       129  \\\n",
              "0  0.391222  0.000000  0.000000  ... -0.000000 -0.417007 -0.722089 -0.000000   \n",
              "1  0.307305  0.000000  0.119519  ... -0.000000 -0.047362 -0.000000 -0.384509   \n",
              "2  1.689401  0.494136  0.000000  ... -0.000000 -1.249095 -0.434090 -0.000000   \n",
              "3  0.561212  1.171617  0.000000  ... -0.000000 -1.149839 -0.178133 -0.000000   \n",
              "4  2.300182  0.396224  0.000000  ... -0.000000 -1.152621 -2.691795 -1.348974   \n",
              "5  4.058988  0.666382  0.000000  ... -0.048110 -1.753612 -1.662532 -0.085523   \n",
              "6  1.397241  1.071287  0.000000  ... -0.006983 -0.000000 -0.579004 -0.043648   \n",
              "7  1.070920  1.216201  0.000000  ... -0.000000 -0.000000 -2.378712 -0.530490   \n",
              "8  0.429779  1.450911  0.000000  ... -0.000000 -2.627465 -0.838826 -0.000000   \n",
              "\n",
              "        130       131       132       133       134       135  \n",
              "0 -2.743269 -0.000000 -0.470955 -2.216434 -0.277803 -0.529040  \n",
              "1 -3.791306 -0.000000 -0.000000 -1.459300 -1.626298 -1.729334  \n",
              "2 -2.304420 -0.487888 -0.000000 -1.237575 -0.776632 -0.281988  \n",
              "3 -3.575630 -1.626717 -1.045881 -1.488798 -0.000000 -0.000000  \n",
              "4 -1.466263 -1.211540 -0.000000 -2.017137 -1.399611 -2.971794  \n",
              "5 -2.734082 -1.002352 -1.663925 -2.285642 -1.573423 -0.000000  \n",
              "6 -1.992430 -0.480267 -0.167914 -1.430998 -0.773405 -0.000000  \n",
              "7 -3.261635 -0.000000 -4.927164 -1.751021 -5.451178 -3.848950  \n",
              "8 -8.683357 -1.051834 -1.707179 -1.987209 -0.265165 -0.304815  \n",
              "\n",
              "[9 rows x 136 columns]"
            ],
            "text/html": [
              "\n",
              "  <div id=\"df-abf0b21d-b119-44b2-becb-4e5bcdbc0b3e\">\n",
              "    <div class=\"colab-df-container\">\n",
              "      <div>\n",
              "<style scoped>\n",
              "    .dataframe tbody tr th:only-of-type {\n",
              "        vertical-align: middle;\n",
              "    }\n",
              "\n",
              "    .dataframe tbody tr th {\n",
              "        vertical-align: top;\n",
              "    }\n",
              "\n",
              "    .dataframe thead th {\n",
              "        text-align: right;\n",
              "    }\n",
              "</style>\n",
              "<table border=\"1\" class=\"dataframe\">\n",
              "  <thead>\n",
              "    <tr style=\"text-align: right;\">\n",
              "      <th></th>\n",
              "      <th>0</th>\n",
              "      <th>1</th>\n",
              "      <th>2</th>\n",
              "      <th>3</th>\n",
              "      <th>4</th>\n",
              "      <th>5</th>\n",
              "      <th>6</th>\n",
              "      <th>7</th>\n",
              "      <th>8</th>\n",
              "      <th>9</th>\n",
              "      <th>...</th>\n",
              "      <th>126</th>\n",
              "      <th>127</th>\n",
              "      <th>128</th>\n",
              "      <th>129</th>\n",
              "      <th>130</th>\n",
              "      <th>131</th>\n",
              "      <th>132</th>\n",
              "      <th>133</th>\n",
              "      <th>134</th>\n",
              "      <th>135</th>\n",
              "    </tr>\n",
              "  </thead>\n",
              "  <tbody>\n",
              "    <tr>\n",
              "      <th>0</th>\n",
              "      <td>0.000000</td>\n",
              "      <td>0.000000</td>\n",
              "      <td>0.000000</td>\n",
              "      <td>1.872539</td>\n",
              "      <td>0.115037</td>\n",
              "      <td>0.580169</td>\n",
              "      <td>0.350401</td>\n",
              "      <td>0.391222</td>\n",
              "      <td>0.000000</td>\n",
              "      <td>0.000000</td>\n",
              "      <td>...</td>\n",
              "      <td>-0.000000</td>\n",
              "      <td>-0.417007</td>\n",
              "      <td>-0.722089</td>\n",
              "      <td>-0.000000</td>\n",
              "      <td>-2.743269</td>\n",
              "      <td>-0.000000</td>\n",
              "      <td>-0.470955</td>\n",
              "      <td>-2.216434</td>\n",
              "      <td>-0.277803</td>\n",
              "      <td>-0.529040</td>\n",
              "    </tr>\n",
              "    <tr>\n",
              "      <th>1</th>\n",
              "      <td>0.000000</td>\n",
              "      <td>0.000000</td>\n",
              "      <td>0.000000</td>\n",
              "      <td>2.921092</td>\n",
              "      <td>0.937161</td>\n",
              "      <td>1.180128</td>\n",
              "      <td>0.664450</td>\n",
              "      <td>0.307305</td>\n",
              "      <td>0.000000</td>\n",
              "      <td>0.119519</td>\n",
              "      <td>...</td>\n",
              "      <td>-0.000000</td>\n",
              "      <td>-0.047362</td>\n",
              "      <td>-0.000000</td>\n",
              "      <td>-0.384509</td>\n",
              "      <td>-3.791306</td>\n",
              "      <td>-0.000000</td>\n",
              "      <td>-0.000000</td>\n",
              "      <td>-1.459300</td>\n",
              "      <td>-1.626298</td>\n",
              "      <td>-1.729334</td>\n",
              "    </tr>\n",
              "    <tr>\n",
              "      <th>2</th>\n",
              "      <td>0.000000</td>\n",
              "      <td>0.000000</td>\n",
              "      <td>0.000000</td>\n",
              "      <td>1.137607</td>\n",
              "      <td>2.910987</td>\n",
              "      <td>0.866366</td>\n",
              "      <td>1.328341</td>\n",
              "      <td>1.689401</td>\n",
              "      <td>0.494136</td>\n",
              "      <td>0.000000</td>\n",
              "      <td>...</td>\n",
              "      <td>-0.000000</td>\n",
              "      <td>-1.249095</td>\n",
              "      <td>-0.434090</td>\n",
              "      <td>-0.000000</td>\n",
              "      <td>-2.304420</td>\n",
              "      <td>-0.487888</td>\n",
              "      <td>-0.000000</td>\n",
              "      <td>-1.237575</td>\n",
              "      <td>-0.776632</td>\n",
              "      <td>-0.281988</td>\n",
              "    </tr>\n",
              "    <tr>\n",
              "      <th>3</th>\n",
              "      <td>0.000000</td>\n",
              "      <td>0.000000</td>\n",
              "      <td>0.000000</td>\n",
              "      <td>2.396583</td>\n",
              "      <td>1.451280</td>\n",
              "      <td>0.482983</td>\n",
              "      <td>0.704460</td>\n",
              "      <td>0.561212</td>\n",
              "      <td>1.171617</td>\n",
              "      <td>0.000000</td>\n",
              "      <td>...</td>\n",
              "      <td>-0.000000</td>\n",
              "      <td>-1.149839</td>\n",
              "      <td>-0.178133</td>\n",
              "      <td>-0.000000</td>\n",
              "      <td>-3.575630</td>\n",
              "      <td>-1.626717</td>\n",
              "      <td>-1.045881</td>\n",
              "      <td>-1.488798</td>\n",
              "      <td>-0.000000</td>\n",
              "      <td>-0.000000</td>\n",
              "    </tr>\n",
              "    <tr>\n",
              "      <th>4</th>\n",
              "      <td>0.000000</td>\n",
              "      <td>0.511052</td>\n",
              "      <td>0.725943</td>\n",
              "      <td>2.103932</td>\n",
              "      <td>1.858317</td>\n",
              "      <td>2.402295</td>\n",
              "      <td>0.579688</td>\n",
              "      <td>2.300182</td>\n",
              "      <td>0.396224</td>\n",
              "      <td>0.000000</td>\n",
              "      <td>...</td>\n",
              "      <td>-0.000000</td>\n",
              "      <td>-1.152621</td>\n",
              "      <td>-2.691795</td>\n",
              "      <td>-1.348974</td>\n",
              "      <td>-1.466263</td>\n",
              "      <td>-1.211540</td>\n",
              "      <td>-0.000000</td>\n",
              "      <td>-2.017137</td>\n",
              "      <td>-1.399611</td>\n",
              "      <td>-2.971794</td>\n",
              "    </tr>\n",
              "    <tr>\n",
              "      <th>5</th>\n",
              "      <td>0.093692</td>\n",
              "      <td>0.000000</td>\n",
              "      <td>1.306066</td>\n",
              "      <td>1.938061</td>\n",
              "      <td>0.000000</td>\n",
              "      <td>3.220229</td>\n",
              "      <td>1.009864</td>\n",
              "      <td>4.058988</td>\n",
              "      <td>0.666382</td>\n",
              "      <td>0.000000</td>\n",
              "      <td>...</td>\n",
              "      <td>-0.048110</td>\n",
              "      <td>-1.753612</td>\n",
              "      <td>-1.662532</td>\n",
              "      <td>-0.085523</td>\n",
              "      <td>-2.734082</td>\n",
              "      <td>-1.002352</td>\n",
              "      <td>-1.663925</td>\n",
              "      <td>-2.285642</td>\n",
              "      <td>-1.573423</td>\n",
              "      <td>-0.000000</td>\n",
              "    </tr>\n",
              "    <tr>\n",
              "      <th>6</th>\n",
              "      <td>0.000000</td>\n",
              "      <td>0.000000</td>\n",
              "      <td>0.570691</td>\n",
              "      <td>4.634641</td>\n",
              "      <td>0.576963</td>\n",
              "      <td>0.000000</td>\n",
              "      <td>0.449442</td>\n",
              "      <td>1.397241</td>\n",
              "      <td>1.071287</td>\n",
              "      <td>0.000000</td>\n",
              "      <td>...</td>\n",
              "      <td>-0.006983</td>\n",
              "      <td>-0.000000</td>\n",
              "      <td>-0.579004</td>\n",
              "      <td>-0.043648</td>\n",
              "      <td>-1.992430</td>\n",
              "      <td>-0.480267</td>\n",
              "      <td>-0.167914</td>\n",
              "      <td>-1.430998</td>\n",
              "      <td>-0.773405</td>\n",
              "      <td>-0.000000</td>\n",
              "    </tr>\n",
              "    <tr>\n",
              "      <th>7</th>\n",
              "      <td>0.000000</td>\n",
              "      <td>0.000000</td>\n",
              "      <td>0.000000</td>\n",
              "      <td>3.938056</td>\n",
              "      <td>2.123071</td>\n",
              "      <td>1.164727</td>\n",
              "      <td>0.787982</td>\n",
              "      <td>1.070920</td>\n",
              "      <td>1.216201</td>\n",
              "      <td>0.000000</td>\n",
              "      <td>...</td>\n",
              "      <td>-0.000000</td>\n",
              "      <td>-0.000000</td>\n",
              "      <td>-2.378712</td>\n",
              "      <td>-0.530490</td>\n",
              "      <td>-3.261635</td>\n",
              "      <td>-0.000000</td>\n",
              "      <td>-4.927164</td>\n",
              "      <td>-1.751021</td>\n",
              "      <td>-5.451178</td>\n",
              "      <td>-3.848950</td>\n",
              "    </tr>\n",
              "    <tr>\n",
              "      <th>8</th>\n",
              "      <td>0.000000</td>\n",
              "      <td>0.000000</td>\n",
              "      <td>0.039906</td>\n",
              "      <td>3.644141</td>\n",
              "      <td>1.957336</td>\n",
              "      <td>0.565469</td>\n",
              "      <td>0.228451</td>\n",
              "      <td>0.429779</td>\n",
              "      <td>1.450911</td>\n",
              "      <td>0.000000</td>\n",
              "      <td>...</td>\n",
              "      <td>-0.000000</td>\n",
              "      <td>-2.627465</td>\n",
              "      <td>-0.838826</td>\n",
              "      <td>-0.000000</td>\n",
              "      <td>-8.683357</td>\n",
              "      <td>-1.051834</td>\n",
              "      <td>-1.707179</td>\n",
              "      <td>-1.987209</td>\n",
              "      <td>-0.265165</td>\n",
              "      <td>-0.304815</td>\n",
              "    </tr>\n",
              "  </tbody>\n",
              "</table>\n",
              "<p>9 rows × 136 columns</p>\n",
              "</div>\n",
              "      <button class=\"colab-df-convert\" onclick=\"convertToInteractive('df-abf0b21d-b119-44b2-becb-4e5bcdbc0b3e')\"\n",
              "              title=\"Convert this dataframe to an interactive table.\"\n",
              "              style=\"display:none;\">\n",
              "        \n",
              "  <svg xmlns=\"http://www.w3.org/2000/svg\" height=\"24px\"viewBox=\"0 0 24 24\"\n",
              "       width=\"24px\">\n",
              "    <path d=\"M0 0h24v24H0V0z\" fill=\"none\"/>\n",
              "    <path d=\"M18.56 5.44l.94 2.06.94-2.06 2.06-.94-2.06-.94-.94-2.06-.94 2.06-2.06.94zm-11 1L8.5 8.5l.94-2.06 2.06-.94-2.06-.94L8.5 2.5l-.94 2.06-2.06.94zm10 10l.94 2.06.94-2.06 2.06-.94-2.06-.94-.94-2.06-.94 2.06-2.06.94z\"/><path d=\"M17.41 7.96l-1.37-1.37c-.4-.4-.92-.59-1.43-.59-.52 0-1.04.2-1.43.59L10.3 9.45l-7.72 7.72c-.78.78-.78 2.05 0 2.83L4 21.41c.39.39.9.59 1.41.59.51 0 1.02-.2 1.41-.59l7.78-7.78 2.81-2.81c.8-.78.8-2.07 0-2.86zM5.41 20L4 18.59l7.72-7.72 1.47 1.35L5.41 20z\"/>\n",
              "  </svg>\n",
              "      </button>\n",
              "      \n",
              "  <style>\n",
              "    .colab-df-container {\n",
              "      display:flex;\n",
              "      flex-wrap:wrap;\n",
              "      gap: 12px;\n",
              "    }\n",
              "\n",
              "    .colab-df-convert {\n",
              "      background-color: #E8F0FE;\n",
              "      border: none;\n",
              "      border-radius: 50%;\n",
              "      cursor: pointer;\n",
              "      display: none;\n",
              "      fill: #1967D2;\n",
              "      height: 32px;\n",
              "      padding: 0 0 0 0;\n",
              "      width: 32px;\n",
              "    }\n",
              "\n",
              "    .colab-df-convert:hover {\n",
              "      background-color: #E2EBFA;\n",
              "      box-shadow: 0px 1px 2px rgba(60, 64, 67, 0.3), 0px 1px 3px 1px rgba(60, 64, 67, 0.15);\n",
              "      fill: #174EA6;\n",
              "    }\n",
              "\n",
              "    [theme=dark] .colab-df-convert {\n",
              "      background-color: #3B4455;\n",
              "      fill: #D2E3FC;\n",
              "    }\n",
              "\n",
              "    [theme=dark] .colab-df-convert:hover {\n",
              "      background-color: #434B5C;\n",
              "      box-shadow: 0px 1px 3px 1px rgba(0, 0, 0, 0.15);\n",
              "      filter: drop-shadow(0px 1px 2px rgba(0, 0, 0, 0.3));\n",
              "      fill: #FFFFFF;\n",
              "    }\n",
              "  </style>\n",
              "\n",
              "      <script>\n",
              "        const buttonEl =\n",
              "          document.querySelector('#df-abf0b21d-b119-44b2-becb-4e5bcdbc0b3e button.colab-df-convert');\n",
              "        buttonEl.style.display =\n",
              "          google.colab.kernel.accessAllowed ? 'block' : 'none';\n",
              "\n",
              "        async function convertToInteractive(key) {\n",
              "          const element = document.querySelector('#df-abf0b21d-b119-44b2-becb-4e5bcdbc0b3e');\n",
              "          const dataTable =\n",
              "            await google.colab.kernel.invokeFunction('convertToInteractive',\n",
              "                                                     [key], {});\n",
              "          if (!dataTable) return;\n",
              "\n",
              "          const docLinkHtml = 'Like what you see? Visit the ' +\n",
              "            '<a target=\"_blank\" href=https://colab.research.google.com/notebooks/data_table.ipynb>data table notebook</a>'\n",
              "            + ' to learn more about interactive tables.';\n",
              "          element.innerHTML = '';\n",
              "          dataTable['output_type'] = 'display_data';\n",
              "          await google.colab.output.renderOutput(dataTable, element);\n",
              "          const docLink = document.createElement('div');\n",
              "          docLink.innerHTML = docLinkHtml;\n",
              "          element.appendChild(docLink);\n",
              "        }\n",
              "      </script>\n",
              "    </div>\n",
              "  </div>\n",
              "  "
            ]
          },
          "metadata": {},
          "execution_count": 153
        }
      ]
    },
    {
      "cell_type": "code",
      "source": [
        "pd.DataFrame(n_supp[15]) # n_support_"
      ],
      "metadata": {
        "colab": {
          "base_uri": "https://localhost:8080/",
          "height": 363
        },
        "id": "0za0JFjqrQY1",
        "outputId": "1cbc3ab8-312b-4818-aac2-ee1c537e198a"
      },
      "execution_count": 154,
      "outputs": [
        {
          "output_type": "execute_result",
          "data": {
            "text/plain": [
              "    0\n",
              "0  18\n",
              "1   6\n",
              "2  13\n",
              "3  17\n",
              "4  10\n",
              "5  18\n",
              "6  11\n",
              "7  16\n",
              "8  12\n",
              "9  15"
            ],
            "text/html": [
              "\n",
              "  <div id=\"df-57c51e82-1fdc-4941-9329-e9be6b4cd8f9\">\n",
              "    <div class=\"colab-df-container\">\n",
              "      <div>\n",
              "<style scoped>\n",
              "    .dataframe tbody tr th:only-of-type {\n",
              "        vertical-align: middle;\n",
              "    }\n",
              "\n",
              "    .dataframe tbody tr th {\n",
              "        vertical-align: top;\n",
              "    }\n",
              "\n",
              "    .dataframe thead th {\n",
              "        text-align: right;\n",
              "    }\n",
              "</style>\n",
              "<table border=\"1\" class=\"dataframe\">\n",
              "  <thead>\n",
              "    <tr style=\"text-align: right;\">\n",
              "      <th></th>\n",
              "      <th>0</th>\n",
              "    </tr>\n",
              "  </thead>\n",
              "  <tbody>\n",
              "    <tr>\n",
              "      <th>0</th>\n",
              "      <td>18</td>\n",
              "    </tr>\n",
              "    <tr>\n",
              "      <th>1</th>\n",
              "      <td>6</td>\n",
              "    </tr>\n",
              "    <tr>\n",
              "      <th>2</th>\n",
              "      <td>13</td>\n",
              "    </tr>\n",
              "    <tr>\n",
              "      <th>3</th>\n",
              "      <td>17</td>\n",
              "    </tr>\n",
              "    <tr>\n",
              "      <th>4</th>\n",
              "      <td>10</td>\n",
              "    </tr>\n",
              "    <tr>\n",
              "      <th>5</th>\n",
              "      <td>18</td>\n",
              "    </tr>\n",
              "    <tr>\n",
              "      <th>6</th>\n",
              "      <td>11</td>\n",
              "    </tr>\n",
              "    <tr>\n",
              "      <th>7</th>\n",
              "      <td>16</td>\n",
              "    </tr>\n",
              "    <tr>\n",
              "      <th>8</th>\n",
              "      <td>12</td>\n",
              "    </tr>\n",
              "    <tr>\n",
              "      <th>9</th>\n",
              "      <td>15</td>\n",
              "    </tr>\n",
              "  </tbody>\n",
              "</table>\n",
              "</div>\n",
              "      <button class=\"colab-df-convert\" onclick=\"convertToInteractive('df-57c51e82-1fdc-4941-9329-e9be6b4cd8f9')\"\n",
              "              title=\"Convert this dataframe to an interactive table.\"\n",
              "              style=\"display:none;\">\n",
              "        \n",
              "  <svg xmlns=\"http://www.w3.org/2000/svg\" height=\"24px\"viewBox=\"0 0 24 24\"\n",
              "       width=\"24px\">\n",
              "    <path d=\"M0 0h24v24H0V0z\" fill=\"none\"/>\n",
              "    <path d=\"M18.56 5.44l.94 2.06.94-2.06 2.06-.94-2.06-.94-.94-2.06-.94 2.06-2.06.94zm-11 1L8.5 8.5l.94-2.06 2.06-.94-2.06-.94L8.5 2.5l-.94 2.06-2.06.94zm10 10l.94 2.06.94-2.06 2.06-.94-2.06-.94-.94-2.06-.94 2.06-2.06.94z\"/><path d=\"M17.41 7.96l-1.37-1.37c-.4-.4-.92-.59-1.43-.59-.52 0-1.04.2-1.43.59L10.3 9.45l-7.72 7.72c-.78.78-.78 2.05 0 2.83L4 21.41c.39.39.9.59 1.41.59.51 0 1.02-.2 1.41-.59l7.78-7.78 2.81-2.81c.8-.78.8-2.07 0-2.86zM5.41 20L4 18.59l7.72-7.72 1.47 1.35L5.41 20z\"/>\n",
              "  </svg>\n",
              "      </button>\n",
              "      \n",
              "  <style>\n",
              "    .colab-df-container {\n",
              "      display:flex;\n",
              "      flex-wrap:wrap;\n",
              "      gap: 12px;\n",
              "    }\n",
              "\n",
              "    .colab-df-convert {\n",
              "      background-color: #E8F0FE;\n",
              "      border: none;\n",
              "      border-radius: 50%;\n",
              "      cursor: pointer;\n",
              "      display: none;\n",
              "      fill: #1967D2;\n",
              "      height: 32px;\n",
              "      padding: 0 0 0 0;\n",
              "      width: 32px;\n",
              "    }\n",
              "\n",
              "    .colab-df-convert:hover {\n",
              "      background-color: #E2EBFA;\n",
              "      box-shadow: 0px 1px 2px rgba(60, 64, 67, 0.3), 0px 1px 3px 1px rgba(60, 64, 67, 0.15);\n",
              "      fill: #174EA6;\n",
              "    }\n",
              "\n",
              "    [theme=dark] .colab-df-convert {\n",
              "      background-color: #3B4455;\n",
              "      fill: #D2E3FC;\n",
              "    }\n",
              "\n",
              "    [theme=dark] .colab-df-convert:hover {\n",
              "      background-color: #434B5C;\n",
              "      box-shadow: 0px 1px 3px 1px rgba(0, 0, 0, 0.15);\n",
              "      filter: drop-shadow(0px 1px 2px rgba(0, 0, 0, 0.3));\n",
              "      fill: #FFFFFF;\n",
              "    }\n",
              "  </style>\n",
              "\n",
              "      <script>\n",
              "        const buttonEl =\n",
              "          document.querySelector('#df-57c51e82-1fdc-4941-9329-e9be6b4cd8f9 button.colab-df-convert');\n",
              "        buttonEl.style.display =\n",
              "          google.colab.kernel.accessAllowed ? 'block' : 'none';\n",
              "\n",
              "        async function convertToInteractive(key) {\n",
              "          const element = document.querySelector('#df-57c51e82-1fdc-4941-9329-e9be6b4cd8f9');\n",
              "          const dataTable =\n",
              "            await google.colab.kernel.invokeFunction('convertToInteractive',\n",
              "                                                     [key], {});\n",
              "          if (!dataTable) return;\n",
              "\n",
              "          const docLinkHtml = 'Like what you see? Visit the ' +\n",
              "            '<a target=\"_blank\" href=https://colab.research.google.com/notebooks/data_table.ipynb>data table notebook</a>'\n",
              "            + ' to learn more about interactive tables.';\n",
              "          element.innerHTML = '';\n",
              "          dataTable['output_type'] = 'display_data';\n",
              "          await google.colab.output.renderOutput(dataTable, element);\n",
              "          const docLink = document.createElement('div');\n",
              "          docLink.innerHTML = docLinkHtml;\n",
              "          element.appendChild(docLink);\n",
              "        }\n",
              "      </script>\n",
              "    </div>\n",
              "  </div>\n",
              "  "
            ]
          },
          "metadata": {},
          "execution_count": 154
        }
      ]
    },
    {
      "cell_type": "markdown",
      "source": [
        "**Sampling one positive support vector for each class**"
      ],
      "metadata": {
        "id": "H0Bo8wZyrWRP"
      }
    },
    {
      "cell_type": "code",
      "source": [
        "ind = 0\n",
        "matplot.subplots(2,5, figsize=(24,10))\n",
        "for i in range(len(n_supp[15])):\n",
        "    l1 = matplot.subplot(2, 5, i + 1)\n",
        "    sv_image = train_samp[sup_vec[15][ind:ind+n_supp[15][i]]][0]\n",
        "    l1.imshow(sv_image.reshape(16, 16), cmap=matplot.cm.RdBu)\n",
        "    l1.set_xticks(())\n",
        "    l1.set_yticks(())\n",
        "    l1.set_xlabel('Class %i vs All' % i)\n",
        "    ind = ind + n_supp[15][i]\n",
        "matplot.suptitle('Support Vectors for Positive Classes')\n",
        "matplot.show()"
      ],
      "metadata": {
        "colab": {
          "base_uri": "https://localhost:8080/",
          "height": 546
        },
        "id": "wSRsCw6krTyn",
        "outputId": "0c3ec664-cb1a-4ce1-b572-1c824dea6eff"
      },
      "execution_count": 166,
      "outputs": [
        {
          "output_type": "display_data",
          "data": {
            "text/plain": [
              "<Figure size 2400x1000 with 10 Axes>"
            ],
            "image/png": "[encoded data removed]"
          },
          "metadata": {}
        }
      ]
    },
    {
      "cell_type": "markdown",
      "source": [
        "**Sampling one negative support vector for each class**"
      ],
      "metadata": {
        "id": "wzSG7KAbrh40"
      }
    },
    {
      "cell_type": "code",
      "source": [
        "ind = n_supp[6][0]\n",
        "matplot.subplots(2,5, figsize=(24,10))\n",
        "for i in range(len(n_supp[6])-1):\n",
        "    l1 = matplot.subplot(2, 5, i + 1)\n",
        "    sv_image = train_samp[sup_vec[6][ind:ind+n_supp[6][i+1]]][13]\n",
        "    l1.imshow(sv_image.reshape(16, 16), cmap=matplot.cm.RdBu)\n",
        "    l1.set_xticks(())\n",
        "    l1.set_yticks(())\n",
        "    l1.set_xlabel('Class %i vs All' % i)\n",
        "    ind = ind + n_supp[6][i+1]\n",
        "ind = 0\n",
        "l1 = matplot.subplot(2, 5, 10)\n",
        "sv_image = train_samp[sup_vec[6][ind:ind+n_supp[6][0]]][13]\n",
        "l1.imshow(sv_image.reshape(16, 16), cmap=matplot.cm.RdBu)\n",
        "l1.set_xticks(())\n",
        "l1.set_yticks(())\n",
        "l1.set_xlabel('Class 9 vs All')\n",
        "matplot.suptitle('Support Vectors for Negative Classes')\n",
        "matplot.show()"
      ],
      "metadata": {
        "colab": {
          "base_uri": "https://localhost:8080/",
          "height": 546
        },
        "id": "gS2ZiWqZrizP",
        "outputId": "a5e2d537-1c6b-40c8-a243-27556ead7c92"
      },
      "execution_count": 178,
      "outputs": [
        {
          "output_type": "display_data",
          "data": {
            "text/plain": [
              "<Figure size 2400x1000 with 10 Axes>"
            ],
            "image/png": "[encoded data removed]"
          },
          "metadata": {}
        }
      ]
    },
    {
      "cell_type": "markdown",
      "source": [
        "**SVC Poly kernel**"
      ],
      "metadata": {
        "id": "iGTXu_TkrpVu"
      }
    },
    {
      "cell_type": "code",
      "source": [
        "seq = np.random.randint(0,len(train),int(0.6*(len(train))))\n",
        "train_samp = train[seq]\n",
        "trlab_samp = trlab[seq]\n",
        "\n",
        "train_samp.shape\n",
        "trlab_samp.shape"
      ],
      "metadata": {
        "colab": {
          "base_uri": "https://localhost:8080/"
        },
        "id": "9s5tLQVur8vQ",
        "outputId": "fe0866df-cb44-4552-a978-2a088c97271a"
      },
      "execution_count": 157,
      "outputs": [
        {
          "output_type": "execute_result",
          "data": {
            "text/plain": [
              "(218,)"
            ]
          },
          "metadata": {},
          "execution_count": 157
        }
      ]
    },
    {
      "cell_type": "code",
      "source": [
        "seq = np.random.randint(0,len(test),int(0.6*(len(test))))\n",
        "test_samp = test[seq]\n",
        "tslab_samp = tslab[seq]\n",
        "\n",
        "test_samp.shape\n",
        "tslab_samp.shape"
      ],
      "metadata": {
        "colab": {
          "base_uri": "https://localhost:8080/"
        },
        "id": "67cgUspLsBq-",
        "outputId": "3249876d-9c99-4992-84af-af1fc1949da3"
      },
      "execution_count": 158,
      "outputs": [
        {
          "output_type": "execute_result",
          "data": {
            "text/plain": [
              "(60,)"
            ]
          },
          "metadata": {},
          "execution_count": 158
        }
      ]
    },
    {
      "cell_type": "markdown",
      "source": [
        "**Running SVC for multiple cost factor(s) C and Degree**"
      ],
      "metadata": {
        "id": "_bymxNRwsKuY"
      }
    },
    {
      "cell_type": "code",
      "source": [
        "coefficient = []\n",
        "n_supp = []\n",
        "sup_vec = []\n",
        "i = 0\n",
        "df = pd.DataFrame(columns = ['c','degree','train_acc','test_acc'])\n",
        "for c in [0.01, 0.1, 1, 10, 100]:\n",
        "    for d in [2,3,4,5,6]:\n",
        "        svm = SVC(kernel='poly', C=c, degree=d)\n",
        "        model = svm.fit(train_samp, trlab_samp)\n",
        "        globals()['model%s' % i] = model\n",
        "        d_coef = svm.dual_coef_\n",
        "        support = svm.n_support_\n",
        "        sv = svm.support_\n",
        "    \n",
        "        p_tr = svm.predict(train_samp)\n",
        "        a_tr = accuracy_score(trlab_samp, p_tr)\n",
        "    \n",
        "        pred = svm.predict(test_samp)\n",
        "        a = accuracy_score(tslab_samp, pred)\n",
        "    \n",
        "        coefficient.append(d_coef)\n",
        "        n_supp.append(support)\n",
        "        sup_vec.append(sv)\n",
        "        df.loc[i] = [c,d,a_tr,a]\n",
        "        i=i+1"
      ],
      "metadata": {
        "id": "6e5ysmUzsON-"
      },
      "execution_count": 159,
      "outputs": []
    },
    {
      "cell_type": "code",
      "source": [
        "df"
      ],
      "metadata": {
        "colab": {
          "base_uri": "https://localhost:8080/",
          "height": 833
        },
        "id": "Eze2b2EHsRu4",
        "outputId": "a7ba893a-1fd0-4b20-bf19-c0f48b02cfa9"
      },
      "execution_count": 160,
      "outputs": [
        {
          "output_type": "execute_result",
          "data": {
            "text/plain": [
              "         c  degree  train_acc  test_acc\n",
              "0     0.01     2.0   0.192661  0.250000\n",
              "1     0.01     3.0   0.211009  0.250000\n",
              "2     0.01     4.0   0.307339  0.283333\n",
              "3     0.01     5.0   0.344037  0.250000\n",
              "4     0.01     6.0   0.376147  0.266667\n",
              "5     0.10     2.0   0.752294  0.533333\n",
              "6     0.10     3.0   0.770642  0.516667\n",
              "7     0.10     4.0   0.766055  0.516667\n",
              "8     0.10     5.0   0.729358  0.400000\n",
              "9     0.10     6.0   0.729358  0.400000\n",
              "10    1.00     2.0   0.990826  0.816667\n",
              "11    1.00     3.0   0.967890  0.766667\n",
              "12    1.00     4.0   0.954128  0.683333\n",
              "13    1.00     5.0   0.926606  0.583333\n",
              "14    1.00     6.0   0.926606  0.533333\n",
              "15   10.00     2.0   1.000000  0.833333\n",
              "16   10.00     3.0   1.000000  0.816667\n",
              "17   10.00     4.0   1.000000  0.733333\n",
              "18   10.00     5.0   1.000000  0.733333\n",
              "19   10.00     6.0   0.995413  0.683333\n",
              "20  100.00     2.0   1.000000  0.833333\n",
              "21  100.00     3.0   1.000000  0.816667\n",
              "22  100.00     4.0   1.000000  0.733333\n",
              "23  100.00     5.0   1.000000  0.733333\n",
              "24  100.00     6.0   1.000000  0.700000"
            ],
            "text/html": [
              "\n",
              "  <div id=\"df-25a196db-e140-4470-a8a5-20c677a91d10\">\n",
              "    <div class=\"colab-df-container\">\n",
              "      <div>\n",
              "<style scoped>\n",
              "    .dataframe tbody tr th:only-of-type {\n",
              "        vertical-align: middle;\n",
              "    }\n",
              "\n",
              "    .dataframe tbody tr th {\n",
              "        vertical-align: top;\n",
              "    }\n",
              "\n",
              "    .dataframe thead th {\n",
              "        text-align: right;\n",
              "    }\n",
              "</style>\n",
              "<table border=\"1\" class=\"dataframe\">\n",
              "  <thead>\n",
              "    <tr style=\"text-align: right;\">\n",
              "      <th></th>\n",
              "      <th>c</th>\n",
              "      <th>degree</th>\n",
              "      <th>train_acc</th>\n",
              "      <th>test_acc</th>\n",
              "    </tr>\n",
              "  </thead>\n",
              "  <tbody>\n",
              "    <tr>\n",
              "      <th>0</th>\n",
              "      <td>0.01</td>\n",
              "      <td>2.0</td>\n",
              "      <td>0.192661</td>\n",
              "      <td>0.250000</td>\n",
              "    </tr>\n",
              "    <tr>\n",
              "      <th>1</th>\n",
              "      <td>0.01</td>\n",
              "      <td>3.0</td>\n",
              "      <td>0.211009</td>\n",
              "      <td>0.250000</td>\n",
              "    </tr>\n",
              "    <tr>\n",
              "      <th>2</th>\n",
              "      <td>0.01</td>\n",
              "      <td>4.0</td>\n",
              "      <td>0.307339</td>\n",
              "      <td>0.283333</td>\n",
              "    </tr>\n",
              "    <tr>\n",
              "      <th>3</th>\n",
              "      <td>0.01</td>\n",
              "      <td>5.0</td>\n",
              "      <td>0.344037</td>\n",
              "      <td>0.250000</td>\n",
              "    </tr>\n",
              "    <tr>\n",
              "      <th>4</th>\n",
              "      <td>0.01</td>\n",
              "      <td>6.0</td>\n",
              "      <td>0.376147</td>\n",
              "      <td>0.266667</td>\n",
              "    </tr>\n",
              "    <tr>\n",
              "      <th>5</th>\n",
              "      <td>0.10</td>\n",
              "      <td>2.0</td>\n",
              "      <td>0.752294</td>\n",
              "      <td>0.533333</td>\n",
              "    </tr>\n",
              "    <tr>\n",
              "      <th>6</th>\n",
              "      <td>0.10</td>\n",
              "      <td>3.0</td>\n",
              "      <td>0.770642</td>\n",
              "      <td>0.516667</td>\n",
              "    </tr>\n",
              "    <tr>\n",
              "      <th>7</th>\n",
              "      <td>0.10</td>\n",
              "      <td>4.0</td>\n",
              "      <td>0.766055</td>\n",
              "      <td>0.516667</td>\n",
              "    </tr>\n",
              "    <tr>\n",
              "      <th>8</th>\n",
              "      <td>0.10</td>\n",
              "      <td>5.0</td>\n",
              "      <td>0.729358</td>\n",
              "      <td>0.400000</td>\n",
              "    </tr>\n",
              "    <tr>\n",
              "      <th>9</th>\n",
              "      <td>0.10</td>\n",
              "      <td>6.0</td>\n",
              "      <td>0.729358</td>\n",
              "      <td>0.400000</td>\n",
              "    </tr>\n",
              "    <tr>\n",
              "      <th>10</th>\n",
              "      <td>1.00</td>\n",
              "      <td>2.0</td>\n",
              "      <td>0.990826</td>\n",
              "      <td>0.816667</td>\n",
              "    </tr>\n",
              "    <tr>\n",
              "      <th>11</th>\n",
              "      <td>1.00</td>\n",
              "      <td>3.0</td>\n",
              "      <td>0.967890</td>\n",
              "      <td>0.766667</td>\n",
              "    </tr>\n",
              "    <tr>\n",
              "      <th>12</th>\n",
              "      <td>1.00</td>\n",
              "      <td>4.0</td>\n",
              "      <td>0.954128</td>\n",
              "      <td>0.683333</td>\n",
              "    </tr>\n",
              "    <tr>\n",
              "      <th>13</th>\n",
              "      <td>1.00</td>\n",
              "      <td>5.0</td>\n",
              "      <td>0.926606</td>\n",
              "      <td>0.583333</td>\n",
              "    </tr>\n",
              "    <tr>\n",
              "      <th>14</th>\n",
              "      <td>1.00</td>\n",
              "      <td>6.0</td>\n",
              "      <td>0.926606</td>\n",
              "      <td>0.533333</td>\n",
              "    </tr>\n",
              "    <tr>\n",
              "      <th>15</th>\n",
              "      <td>10.00</td>\n",
              "      <td>2.0</td>\n",
              "      <td>1.000000</td>\n",
              "      <td>0.833333</td>\n",
              "    </tr>\n",
              "    <tr>\n",
              "      <th>16</th>\n",
              "      <td>10.00</td>\n",
              "      <td>3.0</td>\n",
              "      <td>1.000000</td>\n",
              "      <td>0.816667</td>\n",
              "    </tr>\n",
              "    <tr>\n",
              "      <th>17</th>\n",
              "      <td>10.00</td>\n",
              "      <td>4.0</td>\n",
              "      <td>1.000000</td>\n",
              "      <td>0.733333</td>\n",
              "    </tr>\n",
              "    <tr>\n",
              "      <th>18</th>\n",
              "      <td>10.00</td>\n",
              "      <td>5.0</td>\n",
              "      <td>1.000000</td>\n",
              "      <td>0.733333</td>\n",
              "    </tr>\n",
              "    <tr>\n",
              "      <th>19</th>\n",
              "      <td>10.00</td>\n",
              "      <td>6.0</td>\n",
              "      <td>0.995413</td>\n",
              "      <td>0.683333</td>\n",
              "    </tr>\n",
              "    <tr>\n",
              "      <th>20</th>\n",
              "      <td>100.00</td>\n",
              "      <td>2.0</td>\n",
              "      <td>1.000000</td>\n",
              "      <td>0.833333</td>\n",
              "    </tr>\n",
              "    <tr>\n",
              "      <th>21</th>\n",
              "      <td>100.00</td>\n",
              "      <td>3.0</td>\n",
              "      <td>1.000000</td>\n",
              "      <td>0.816667</td>\n",
              "    </tr>\n",
              "    <tr>\n",
              "      <th>22</th>\n",
              "      <td>100.00</td>\n",
              "      <td>4.0</td>\n",
              "      <td>1.000000</td>\n",
              "      <td>0.733333</td>\n",
              "    </tr>\n",
              "    <tr>\n",
              "      <th>23</th>\n",
              "      <td>100.00</td>\n",
              "      <td>5.0</td>\n",
              "      <td>1.000000</td>\n",
              "      <td>0.733333</td>\n",
              "    </tr>\n",
              "    <tr>\n",
              "      <th>24</th>\n",
              "      <td>100.00</td>\n",
              "      <td>6.0</td>\n",
              "      <td>1.000000</td>\n",
              "      <td>0.700000</td>\n",
              "    </tr>\n",
              "  </tbody>\n",
              "</table>\n",
              "</div>\n",
              "      <button class=\"colab-df-convert\" onclick=\"convertToInteractive('df-25a196db-e140-4470-a8a5-20c677a91d10')\"\n",
              "              title=\"Convert this dataframe to an interactive table.\"\n",
              "              style=\"display:none;\">\n",
              "        \n",
              "  <svg xmlns=\"http://www.w3.org/2000/svg\" height=\"24px\"viewBox=\"0 0 24 24\"\n",
              "       width=\"24px\">\n",
              "    <path d=\"M0 0h24v24H0V0z\" fill=\"none\"/>\n",
              "    <path d=\"M18.56 5.44l.94 2.06.94-2.06 2.06-.94-2.06-.94-.94-2.06-.94 2.06-2.06.94zm-11 1L8.5 8.5l.94-2.06 2.06-.94-2.06-.94L8.5 2.5l-.94 2.06-2.06.94zm10 10l.94 2.06.94-2.06 2.06-.94-2.06-.94-.94-2.06-.94 2.06-2.06.94z\"/><path d=\"M17.41 7.96l-1.37-1.37c-.4-.4-.92-.59-1.43-.59-.52 0-1.04.2-1.43.59L10.3 9.45l-7.72 7.72c-.78.78-.78 2.05 0 2.83L4 21.41c.39.39.9.59 1.41.59.51 0 1.02-.2 1.41-.59l7.78-7.78 2.81-2.81c.8-.78.8-2.07 0-2.86zM5.41 20L4 18.59l7.72-7.72 1.47 1.35L5.41 20z\"/>\n",
              "  </svg>\n",
              "      </button>\n",
              "      \n",
              "  <style>\n",
              "    .colab-df-container {\n",
              "      display:flex;\n",
              "      flex-wrap:wrap;\n",
              "      gap: 12px;\n",
              "    }\n",
              "\n",
              "    .colab-df-convert {\n",
              "      background-color: #E8F0FE;\n",
              "      border: none;\n",
              "      border-radius: 50%;\n",
              "      cursor: pointer;\n",
              "      display: none;\n",
              "      fill: #1967D2;\n",
              "      height: 32px;\n",
              "      padding: 0 0 0 0;\n",
              "      width: 32px;\n",
              "    }\n",
              "\n",
              "    .colab-df-convert:hover {\n",
              "      background-color: #E2EBFA;\n",
              "      box-shadow: 0px 1px 2px rgba(60, 64, 67, 0.3), 0px 1px 3px 1px rgba(60, 64, 67, 0.15);\n",
              "      fill: #174EA6;\n",
              "    }\n",
              "\n",
              "    [theme=dark] .colab-df-convert {\n",
              "      background-color: #3B4455;\n",
              "      fill: #D2E3FC;\n",
              "    }\n",
              "\n",
              "    [theme=dark] .colab-df-convert:hover {\n",
              "      background-color: #434B5C;\n",
              "      box-shadow: 0px 1px 3px 1px rgba(0, 0, 0, 0.15);\n",
              "      filter: drop-shadow(0px 1px 2px rgba(0, 0, 0, 0.3));\n",
              "      fill: #FFFFFF;\n",
              "    }\n",
              "  </style>\n",
              "\n",
              "      <script>\n",
              "        const buttonEl =\n",
              "          document.querySelector('#df-25a196db-e140-4470-a8a5-20c677a91d10 button.colab-df-convert');\n",
              "        buttonEl.style.display =\n",
              "          google.colab.kernel.accessAllowed ? 'block' : 'none';\n",
              "\n",
              "        async function convertToInteractive(key) {\n",
              "          const element = document.querySelector('#df-25a196db-e140-4470-a8a5-20c677a91d10');\n",
              "          const dataTable =\n",
              "            await google.colab.kernel.invokeFunction('convertToInteractive',\n",
              "                                                     [key], {});\n",
              "          if (!dataTable) return;\n",
              "\n",
              "          const docLinkHtml = 'Like what you see? Visit the ' +\n",
              "            '<a target=\"_blank\" href=https://colab.research.google.com/notebooks/data_table.ipynb>data table notebook</a>'\n",
              "            + ' to learn more about interactive tables.';\n",
              "          element.innerHTML = '';\n",
              "          dataTable['output_type'] = 'display_data';\n",
              "          await google.colab.output.renderOutput(dataTable, element);\n",
              "          const docLink = document.createElement('div');\n",
              "          docLink.innerHTML = docLinkHtml;\n",
              "          element.appendChild(docLink);\n",
              "        }\n",
              "      </script>\n",
              "    </div>\n",
              "  </div>\n",
              "  "
            ]
          },
          "metadata": {},
          "execution_count": 160
        }
      ]
    },
    {
      "cell_type": "markdown",
      "source": [
        "**We choose C=100 and Degree=2 to look at the Support vectors**"
      ],
      "metadata": {
        "id": "g-kRNpmOsV73"
      }
    },
    {
      "cell_type": "code",
      "source": [
        "pd.DataFrame(coefficient[20]) # dual_coef_"
      ],
      "metadata": {
        "colab": {
          "base_uri": "https://localhost:8080/",
          "height": 425
        },
        "id": "TSVXZMMssY-N",
        "outputId": "1806c734-3c34-486a-b51a-d8599a146a61"
      },
      "execution_count": 161,
      "outputs": [
        {
          "output_type": "execute_result",
          "data": {
            "text/plain": [
              "        0         1         2         3         4         5         6    \\\n",
              "0  0.000000  0.027176  0.000000  0.000000  0.418245  0.766128  0.815905   \n",
              "1  0.000000  0.346330  0.186158  0.037344  0.503533  1.220914  0.704581   \n",
              "2  0.081676  0.249368  0.006363  0.134743  0.314263  1.053850  1.037033   \n",
              "3  0.000000  0.107783  0.000000  0.000000  0.526831  1.094050  1.005165   \n",
              "4  0.000000  0.114302  0.158791  0.332932  0.485455  0.960881  0.743758   \n",
              "5  0.196240  0.108500  0.088146  0.054504  0.220289  1.442378  1.160203   \n",
              "6  0.000000  0.051495  0.000000  0.000000  0.610223  1.035307  0.900002   \n",
              "7  0.076195  0.140849  0.048454  0.004435  0.460480  1.034456  0.752456   \n",
              "8  0.076881  0.060049  0.144485  0.000000  0.605839  0.877718  0.783686   \n",
              "\n",
              "        7         8         9    ...      120       121       122       123  \\\n",
              "0  0.187585  0.000000  0.394675  ... -0.04352 -0.000000 -0.000000 -0.591764   \n",
              "1  0.307854  0.000000  0.355584  ... -0.00000 -0.000000 -0.000000 -1.893922   \n",
              "2  0.000000  0.023850  0.515604  ... -0.00000 -0.000000 -0.000000 -1.081711   \n",
              "3  0.215250  0.000000  0.430017  ... -0.00000 -0.432079 -0.210339 -0.438334   \n",
              "4  0.013536  0.175241  0.319585  ... -0.00000 -0.025327 -0.096615 -4.936421   \n",
              "5  0.000000  0.305696  0.410323  ... -0.00000 -0.000000 -0.000000 -0.203333   \n",
              "6  0.292938  0.000000  0.447669  ... -0.00000 -0.000000 -0.000000 -0.886792   \n",
              "7  0.116099  0.111571  0.478059  ... -0.00000 -0.000000 -0.473643 -3.243552   \n",
              "8  0.265998  0.000000  0.376645  ... -0.00000 -0.449639 -0.239580 -0.624064   \n",
              "\n",
              "        124       125       126       127       128       129  \n",
              "0 -0.000000 -0.000000 -0.934621 -0.970180 -0.000000 -0.000000  \n",
              "1 -0.000000 -0.000000 -2.041381 -2.047380 -0.000000 -0.000000  \n",
              "2 -0.173037 -0.000000 -1.316452 -1.098804 -0.000000 -0.000000  \n",
              "3 -0.000000 -0.000000 -1.640132 -1.294839 -0.000000 -0.010683  \n",
              "4 -0.000000 -0.000000 -4.160696 -3.257285 -0.000000 -0.000000  \n",
              "5 -0.010728 -0.000000 -1.289499 -0.860774 -0.402087 -0.082513  \n",
              "6 -0.000000 -0.000000 -1.315254 -1.194897 -0.000000 -0.000000  \n",
              "7 -0.000000 -0.577259 -6.427854 -5.047051 -0.000000 -0.000000  \n",
              "8 -0.109944 -0.000000 -2.215495 -2.001902 -0.000000 -0.000000  \n",
              "\n",
              "[9 rows x 130 columns]"
            ],
            "text/html": [
              "\n",
              "  <div id=\"df-1121008c-a6fd-480e-b6dc-aafb97cf430d\">\n",
              "    <div class=\"colab-df-container\">\n",
              "      <div>\n",
              "<style scoped>\n",
              "    .dataframe tbody tr th:only-of-type {\n",
              "        vertical-align: middle;\n",
              "    }\n",
              "\n",
              "    .dataframe tbody tr th {\n",
              "        vertical-align: top;\n",
              "    }\n",
              "\n",
              "    .dataframe thead th {\n",
              "        text-align: right;\n",
              "    }\n",
              "</style>\n",
              "<table border=\"1\" class=\"dataframe\">\n",
              "  <thead>\n",
              "    <tr style=\"text-align: right;\">\n",
              "      <th></th>\n",
              "      <th>0</th>\n",
              "      <th>1</th>\n",
              "      <th>2</th>\n",
              "      <th>3</th>\n",
              "      <th>4</th>\n",
              "      <th>5</th>\n",
              "      <th>6</th>\n",
              "      <th>7</th>\n",
              "      <th>8</th>\n",
              "      <th>9</th>\n",
              "      <th>...</th>\n",
              "      <th>120</th>\n",
              "      <th>121</th>\n",
              "      <th>122</th>\n",
              "      <th>123</th>\n",
              "      <th>124</th>\n",
              "      <th>125</th>\n",
              "      <th>126</th>\n",
              "      <th>127</th>\n",
              "      <th>128</th>\n",
              "      <th>129</th>\n",
              "    </tr>\n",
              "  </thead>\n",
              "  <tbody>\n",
              "    <tr>\n",
              "      <th>0</th>\n",
              "      <td>0.000000</td>\n",
              "      <td>0.027176</td>\n",
              "      <td>0.000000</td>\n",
              "      <td>0.000000</td>\n",
              "      <td>0.418245</td>\n",
              "      <td>0.766128</td>\n",
              "      <td>0.815905</td>\n",
              "      <td>0.187585</td>\n",
              "      <td>0.000000</td>\n",
              "      <td>0.394675</td>\n",
              "      <td>...</td>\n",
              "      <td>-0.04352</td>\n",
              "      <td>-0.000000</td>\n",
              "      <td>-0.000000</td>\n",
              "      <td>-0.591764</td>\n",
              "      <td>-0.000000</td>\n",
              "      <td>-0.000000</td>\n",
              "      <td>-0.934621</td>\n",
              "      <td>-0.970180</td>\n",
              "      <td>-0.000000</td>\n",
              "      <td>-0.000000</td>\n",
              "    </tr>\n",
              "    <tr>\n",
              "      <th>1</th>\n",
              "      <td>0.000000</td>\n",
              "      <td>0.346330</td>\n",
              "      <td>0.186158</td>\n",
              "      <td>0.037344</td>\n",
              "      <td>0.503533</td>\n",
              "      <td>1.220914</td>\n",
              "      <td>0.704581</td>\n",
              "      <td>0.307854</td>\n",
              "      <td>0.000000</td>\n",
              "      <td>0.355584</td>\n",
              "      <td>...</td>\n",
              "      <td>-0.00000</td>\n",
              "      <td>-0.000000</td>\n",
              "      <td>-0.000000</td>\n",
              "      <td>-1.893922</td>\n",
              "      <td>-0.000000</td>\n",
              "      <td>-0.000000</td>\n",
              "      <td>-2.041381</td>\n",
              "      <td>-2.047380</td>\n",
              "      <td>-0.000000</td>\n",
              "      <td>-0.000000</td>\n",
              "    </tr>\n",
              "    <tr>\n",
              "      <th>2</th>\n",
              "      <td>0.081676</td>\n",
              "      <td>0.249368</td>\n",
              "      <td>0.006363</td>\n",
              "      <td>0.134743</td>\n",
              "      <td>0.314263</td>\n",
              "      <td>1.053850</td>\n",
              "      <td>1.037033</td>\n",
              "      <td>0.000000</td>\n",
              "      <td>0.023850</td>\n",
              "      <td>0.515604</td>\n",
              "      <td>...</td>\n",
              "      <td>-0.00000</td>\n",
              "      <td>-0.000000</td>\n",
              "      <td>-0.000000</td>\n",
              "      <td>-1.081711</td>\n",
              "      <td>-0.173037</td>\n",
              "      <td>-0.000000</td>\n",
              "      <td>-1.316452</td>\n",
              "      <td>-1.098804</td>\n",
              "      <td>-0.000000</td>\n",
              "      <td>-0.000000</td>\n",
              "    </tr>\n",
              "    <tr>\n",
              "      <th>3</th>\n",
              "      <td>0.000000</td>\n",
              "      <td>0.107783</td>\n",
              "      <td>0.000000</td>\n",
              "      <td>0.000000</td>\n",
              "      <td>0.526831</td>\n",
              "      <td>1.094050</td>\n",
              "      <td>1.005165</td>\n",
              "      <td>0.215250</td>\n",
              "      <td>0.000000</td>\n",
              "      <td>0.430017</td>\n",
              "      <td>...</td>\n",
              "      <td>-0.00000</td>\n",
              "      <td>-0.432079</td>\n",
              "      <td>-0.210339</td>\n",
              "      <td>-0.438334</td>\n",
              "      <td>-0.000000</td>\n",
              "      <td>-0.000000</td>\n",
              "      <td>-1.640132</td>\n",
              "      <td>-1.294839</td>\n",
              "      <td>-0.000000</td>\n",
              "      <td>-0.010683</td>\n",
              "    </tr>\n",
              "    <tr>\n",
              "      <th>4</th>\n",
              "      <td>0.000000</td>\n",
              "      <td>0.114302</td>\n",
              "      <td>0.158791</td>\n",
              "      <td>0.332932</td>\n",
              "      <td>0.485455</td>\n",
              "      <td>0.960881</td>\n",
              "      <td>0.743758</td>\n",
              "      <td>0.013536</td>\n",
              "      <td>0.175241</td>\n",
              "      <td>0.319585</td>\n",
              "      <td>...</td>\n",
              "      <td>-0.00000</td>\n",
              "      <td>-0.025327</td>\n",
              "      <td>-0.096615</td>\n",
              "      <td>-4.936421</td>\n",
              "      <td>-0.000000</td>\n",
              "      <td>-0.000000</td>\n",
              "      <td>-4.160696</td>\n",
              "      <td>-3.257285</td>\n",
              "      <td>-0.000000</td>\n",
              "      <td>-0.000000</td>\n",
              "    </tr>\n",
              "    <tr>\n",
              "      <th>5</th>\n",
              "      <td>0.196240</td>\n",
              "      <td>0.108500</td>\n",
              "      <td>0.088146</td>\n",
              "      <td>0.054504</td>\n",
              "      <td>0.220289</td>\n",
              "      <td>1.442378</td>\n",
              "      <td>1.160203</td>\n",
              "      <td>0.000000</td>\n",
              "      <td>0.305696</td>\n",
              "      <td>0.410323</td>\n",
              "      <td>...</td>\n",
              "      <td>-0.00000</td>\n",
              "      <td>-0.000000</td>\n",
              "      <td>-0.000000</td>\n",
              "      <td>-0.203333</td>\n",
              "      <td>-0.010728</td>\n",
              "      <td>-0.000000</td>\n",
              "      <td>-1.289499</td>\n",
              "      <td>-0.860774</td>\n",
              "      <td>-0.402087</td>\n",
              "      <td>-0.082513</td>\n",
              "    </tr>\n",
              "    <tr>\n",
              "      <th>6</th>\n",
              "      <td>0.000000</td>\n",
              "      <td>0.051495</td>\n",
              "      <td>0.000000</td>\n",
              "      <td>0.000000</td>\n",
              "      <td>0.610223</td>\n",
              "      <td>1.035307</td>\n",
              "      <td>0.900002</td>\n",
              "      <td>0.292938</td>\n",
              "      <td>0.000000</td>\n",
              "      <td>0.447669</td>\n",
              "      <td>...</td>\n",
              "      <td>-0.00000</td>\n",
              "      <td>-0.000000</td>\n",
              "      <td>-0.000000</td>\n",
              "      <td>-0.886792</td>\n",
              "      <td>-0.000000</td>\n",
              "      <td>-0.000000</td>\n",
              "      <td>-1.315254</td>\n",
              "      <td>-1.194897</td>\n",
              "      <td>-0.000000</td>\n",
              "      <td>-0.000000</td>\n",
              "    </tr>\n",
              "    <tr>\n",
              "      <th>7</th>\n",
              "      <td>0.076195</td>\n",
              "      <td>0.140849</td>\n",
              "      <td>0.048454</td>\n",
              "      <td>0.004435</td>\n",
              "      <td>0.460480</td>\n",
              "      <td>1.034456</td>\n",
              "      <td>0.752456</td>\n",
              "      <td>0.116099</td>\n",
              "      <td>0.111571</td>\n",
              "      <td>0.478059</td>\n",
              "      <td>...</td>\n",
              "      <td>-0.00000</td>\n",
              "      <td>-0.000000</td>\n",
              "      <td>-0.473643</td>\n",
              "      <td>-3.243552</td>\n",
              "      <td>-0.000000</td>\n",
              "      <td>-0.577259</td>\n",
              "      <td>-6.427854</td>\n",
              "      <td>-5.047051</td>\n",
              "      <td>-0.000000</td>\n",
              "      <td>-0.000000</td>\n",
              "    </tr>\n",
              "    <tr>\n",
              "      <th>8</th>\n",
              "      <td>0.076881</td>\n",
              "      <td>0.060049</td>\n",
              "      <td>0.144485</td>\n",
              "      <td>0.000000</td>\n",
              "      <td>0.605839</td>\n",
              "      <td>0.877718</td>\n",
              "      <td>0.783686</td>\n",
              "      <td>0.265998</td>\n",
              "      <td>0.000000</td>\n",
              "      <td>0.376645</td>\n",
              "      <td>...</td>\n",
              "      <td>-0.00000</td>\n",
              "      <td>-0.449639</td>\n",
              "      <td>-0.239580</td>\n",
              "      <td>-0.624064</td>\n",
              "      <td>-0.109944</td>\n",
              "      <td>-0.000000</td>\n",
              "      <td>-2.215495</td>\n",
              "      <td>-2.001902</td>\n",
              "      <td>-0.000000</td>\n",
              "      <td>-0.000000</td>\n",
              "    </tr>\n",
              "  </tbody>\n",
              "</table>\n",
              "<p>9 rows × 130 columns</p>\n",
              "</div>\n",
              "      <button class=\"colab-df-convert\" onclick=\"convertToInteractive('df-1121008c-a6fd-480e-b6dc-aafb97cf430d')\"\n",
              "              title=\"Convert this dataframe to an interactive table.\"\n",
              "              style=\"display:none;\">\n",
              "        \n",
              "  <svg xmlns=\"http://www.w3.org/2000/svg\" height=\"24px\"viewBox=\"0 0 24 24\"\n",
              "       width=\"24px\">\n",
              "    <path d=\"M0 0h24v24H0V0z\" fill=\"none\"/>\n",
              "    <path d=\"M18.56 5.44l.94 2.06.94-2.06 2.06-.94-2.06-.94-.94-2.06-.94 2.06-2.06.94zm-11 1L8.5 8.5l.94-2.06 2.06-.94-2.06-.94L8.5 2.5l-.94 2.06-2.06.94zm10 10l.94 2.06.94-2.06 2.06-.94-2.06-.94-.94-2.06-.94 2.06-2.06.94z\"/><path d=\"M17.41 7.96l-1.37-1.37c-.4-.4-.92-.59-1.43-.59-.52 0-1.04.2-1.43.59L10.3 9.45l-7.72 7.72c-.78.78-.78 2.05 0 2.83L4 21.41c.39.39.9.59 1.41.59.51 0 1.02-.2 1.41-.59l7.78-7.78 2.81-2.81c.8-.78.8-2.07 0-2.86zM5.41 20L4 18.59l7.72-7.72 1.47 1.35L5.41 20z\"/>\n",
              "  </svg>\n",
              "      </button>\n",
              "      \n",
              "  <style>\n",
              "    .colab-df-container {\n",
              "      display:flex;\n",
              "      flex-wrap:wrap;\n",
              "      gap: 12px;\n",
              "    }\n",
              "\n",
              "    .colab-df-convert {\n",
              "      background-color: #E8F0FE;\n",
              "      border: none;\n",
              "      border-radius: 50%;\n",
              "      cursor: pointer;\n",
              "      display: none;\n",
              "      fill: #1967D2;\n",
              "      height: 32px;\n",
              "      padding: 0 0 0 0;\n",
              "      width: 32px;\n",
              "    }\n",
              "\n",
              "    .colab-df-convert:hover {\n",
              "      background-color: #E2EBFA;\n",
              "      box-shadow: 0px 1px 2px rgba(60, 64, 67, 0.3), 0px 1px 3px 1px rgba(60, 64, 67, 0.15);\n",
              "      fill: #174EA6;\n",
              "    }\n",
              "\n",
              "    [theme=dark] .colab-df-convert {\n",
              "      background-color: #3B4455;\n",
              "      fill: #D2E3FC;\n",
              "    }\n",
              "\n",
              "    [theme=dark] .colab-df-convert:hover {\n",
              "      background-color: #434B5C;\n",
              "      box-shadow: 0px 1px 3px 1px rgba(0, 0, 0, 0.15);\n",
              "      filter: drop-shadow(0px 1px 2px rgba(0, 0, 0, 0.3));\n",
              "      fill: #FFFFFF;\n",
              "    }\n",
              "  </style>\n",
              "\n",
              "      <script>\n",
              "        const buttonEl =\n",
              "          document.querySelector('#df-1121008c-a6fd-480e-b6dc-aafb97cf430d button.colab-df-convert');\n",
              "        buttonEl.style.display =\n",
              "          google.colab.kernel.accessAllowed ? 'block' : 'none';\n",
              "\n",
              "        async function convertToInteractive(key) {\n",
              "          const element = document.querySelector('#df-1121008c-a6fd-480e-b6dc-aafb97cf430d');\n",
              "          const dataTable =\n",
              "            await google.colab.kernel.invokeFunction('convertToInteractive',\n",
              "                                                     [key], {});\n",
              "          if (!dataTable) return;\n",
              "\n",
              "          const docLinkHtml = 'Like what you see? Visit the ' +\n",
              "            '<a target=\"_blank\" href=https://colab.research.google.com/notebooks/data_table.ipynb>data table notebook</a>'\n",
              "            + ' to learn more about interactive tables.';\n",
              "          element.innerHTML = '';\n",
              "          dataTable['output_type'] = 'display_data';\n",
              "          await google.colab.output.renderOutput(dataTable, element);\n",
              "          const docLink = document.createElement('div');\n",
              "          docLink.innerHTML = docLinkHtml;\n",
              "          element.appendChild(docLink);\n",
              "        }\n",
              "      </script>\n",
              "    </div>\n",
              "  </div>\n",
              "  "
            ]
          },
          "metadata": {},
          "execution_count": 161
        }
      ]
    },
    {
      "cell_type": "code",
      "source": [
        "pd.DataFrame(n_supp[20]) # n_support_"
      ],
      "metadata": {
        "colab": {
          "base_uri": "https://localhost:8080/",
          "height": 363
        },
        "id": "Kx0Ghv8bscLe",
        "outputId": "5ee7bf3b-5846-4e8c-ac19-ae0fd53d6274"
      },
      "execution_count": 162,
      "outputs": [
        {
          "output_type": "execute_result",
          "data": {
            "text/plain": [
              "    0\n",
              "0  12\n",
              "1   4\n",
              "2  12\n",
              "3  14\n",
              "4  19\n",
              "5  18\n",
              "6   9\n",
              "7  15\n",
              "8  11\n",
              "9  16"
            ],
            "text/html": [
              "\n",
              "  <div id=\"df-cc103388-58ce-4dfb-871d-4add49c9e43b\">\n",
              "    <div class=\"colab-df-container\">\n",
              "      <div>\n",
              "<style scoped>\n",
              "    .dataframe tbody tr th:only-of-type {\n",
              "        vertical-align: middle;\n",
              "    }\n",
              "\n",
              "    .dataframe tbody tr th {\n",
              "        vertical-align: top;\n",
              "    }\n",
              "\n",
              "    .dataframe thead th {\n",
              "        text-align: right;\n",
              "    }\n",
              "</style>\n",
              "<table border=\"1\" class=\"dataframe\">\n",
              "  <thead>\n",
              "    <tr style=\"text-align: right;\">\n",
              "      <th></th>\n",
              "      <th>0</th>\n",
              "    </tr>\n",
              "  </thead>\n",
              "  <tbody>\n",
              "    <tr>\n",
              "      <th>0</th>\n",
              "      <td>12</td>\n",
              "    </tr>\n",
              "    <tr>\n",
              "      <th>1</th>\n",
              "      <td>4</td>\n",
              "    </tr>\n",
              "    <tr>\n",
              "      <th>2</th>\n",
              "      <td>12</td>\n",
              "    </tr>\n",
              "    <tr>\n",
              "      <th>3</th>\n",
              "      <td>14</td>\n",
              "    </tr>\n",
              "    <tr>\n",
              "      <th>4</th>\n",
              "      <td>19</td>\n",
              "    </tr>\n",
              "    <tr>\n",
              "      <th>5</th>\n",
              "      <td>18</td>\n",
              "    </tr>\n",
              "    <tr>\n",
              "      <th>6</th>\n",
              "      <td>9</td>\n",
              "    </tr>\n",
              "    <tr>\n",
              "      <th>7</th>\n",
              "      <td>15</td>\n",
              "    </tr>\n",
              "    <tr>\n",
              "      <th>8</th>\n",
              "      <td>11</td>\n",
              "    </tr>\n",
              "    <tr>\n",
              "      <th>9</th>\n",
              "      <td>16</td>\n",
              "    </tr>\n",
              "  </tbody>\n",
              "</table>\n",
              "</div>\n",
              "      <button class=\"colab-df-convert\" onclick=\"convertToInteractive('df-cc103388-58ce-4dfb-871d-4add49c9e43b')\"\n",
              "              title=\"Convert this dataframe to an interactive table.\"\n",
              "              style=\"display:none;\">\n",
              "        \n",
              "  <svg xmlns=\"http://www.w3.org/2000/svg\" height=\"24px\"viewBox=\"0 0 24 24\"\n",
              "       width=\"24px\">\n",
              "    <path d=\"M0 0h24v24H0V0z\" fill=\"none\"/>\n",
              "    <path d=\"M18.56 5.44l.94 2.06.94-2.06 2.06-.94-2.06-.94-.94-2.06-.94 2.06-2.06.94zm-11 1L8.5 8.5l.94-2.06 2.06-.94-2.06-.94L8.5 2.5l-.94 2.06-2.06.94zm10 10l.94 2.06.94-2.06 2.06-.94-2.06-.94-.94-2.06-.94 2.06-2.06.94z\"/><path d=\"M17.41 7.96l-1.37-1.37c-.4-.4-.92-.59-1.43-.59-.52 0-1.04.2-1.43.59L10.3 9.45l-7.72 7.72c-.78.78-.78 2.05 0 2.83L4 21.41c.39.39.9.59 1.41.59.51 0 1.02-.2 1.41-.59l7.78-7.78 2.81-2.81c.8-.78.8-2.07 0-2.86zM5.41 20L4 18.59l7.72-7.72 1.47 1.35L5.41 20z\"/>\n",
              "  </svg>\n",
              "      </button>\n",
              "      \n",
              "  <style>\n",
              "    .colab-df-container {\n",
              "      display:flex;\n",
              "      flex-wrap:wrap;\n",
              "      gap: 12px;\n",
              "    }\n",
              "\n",
              "    .colab-df-convert {\n",
              "      background-color: #E8F0FE;\n",
              "      border: none;\n",
              "      border-radius: 50%;\n",
              "      cursor: pointer;\n",
              "      display: none;\n",
              "      fill: #1967D2;\n",
              "      height: 32px;\n",
              "      padding: 0 0 0 0;\n",
              "      width: 32px;\n",
              "    }\n",
              "\n",
              "    .colab-df-convert:hover {\n",
              "      background-color: #E2EBFA;\n",
              "      box-shadow: 0px 1px 2px rgba(60, 64, 67, 0.3), 0px 1px 3px 1px rgba(60, 64, 67, 0.15);\n",
              "      fill: #174EA6;\n",
              "    }\n",
              "\n",
              "    [theme=dark] .colab-df-convert {\n",
              "      background-color: #3B4455;\n",
              "      fill: #D2E3FC;\n",
              "    }\n",
              "\n",
              "    [theme=dark] .colab-df-convert:hover {\n",
              "      background-color: #434B5C;\n",
              "      box-shadow: 0px 1px 3px 1px rgba(0, 0, 0, 0.15);\n",
              "      filter: drop-shadow(0px 1px 2px rgba(0, 0, 0, 0.3));\n",
              "      fill: #FFFFFF;\n",
              "    }\n",
              "  </style>\n",
              "\n",
              "      <script>\n",
              "        const buttonEl =\n",
              "          document.querySelector('#df-cc103388-58ce-4dfb-871d-4add49c9e43b button.colab-df-convert');\n",
              "        buttonEl.style.display =\n",
              "          google.colab.kernel.accessAllowed ? 'block' : 'none';\n",
              "\n",
              "        async function convertToInteractive(key) {\n",
              "          const element = document.querySelector('#df-cc103388-58ce-4dfb-871d-4add49c9e43b');\n",
              "          const dataTable =\n",
              "            await google.colab.kernel.invokeFunction('convertToInteractive',\n",
              "                                                     [key], {});\n",
              "          if (!dataTable) return;\n",
              "\n",
              "          const docLinkHtml = 'Like what you see? Visit the ' +\n",
              "            '<a target=\"_blank\" href=https://colab.research.google.com/notebooks/data_table.ipynb>data table notebook</a>'\n",
              "            + ' to learn more about interactive tables.';\n",
              "          element.innerHTML = '';\n",
              "          dataTable['output_type'] = 'display_data';\n",
              "          await google.colab.output.renderOutput(dataTable, element);\n",
              "          const docLink = document.createElement('div');\n",
              "          docLink.innerHTML = docLinkHtml;\n",
              "          element.appendChild(docLink);\n",
              "        }\n",
              "      </script>\n",
              "    </div>\n",
              "  </div>\n",
              "  "
            ]
          },
          "metadata": {},
          "execution_count": 162
        }
      ]
    },
    {
      "cell_type": "markdown",
      "source": [
        "**Sampling one positive support vector for each class**"
      ],
      "metadata": {
        "id": "HYgLuR8jsgao"
      }
    },
    {
      "cell_type": "code",
      "source": [
        "ind = 0\n",
        "matplot.subplots(2,5, figsize=(24,10))\n",
        "for i in range(len(n_supp[20])):\n",
        "    l1 = matplot.subplot(2, 5, i + 1)\n",
        "    sv_image = train_samp[sup_vec[20][ind:ind+n_supp[20][i]]][0]\n",
        "    l1.imshow(sv_image.reshape(16, 16), cmap=matplot.cm.RdBu)\n",
        "    l1.set_xticks(())\n",
        "    l1.set_yticks(())\n",
        "    l1.set_xlabel('Class %i vs All' % i)\n",
        "    ind = ind + n_supp[20][i]\n",
        "matplot.suptitle('Support Vectors for Positive Classes')\n",
        "matplot.show()"
      ],
      "metadata": {
        "colab": {
          "base_uri": "https://localhost:8080/",
          "height": 546
        },
        "id": "T-3Po9tOsln5",
        "outputId": "90288859-e7cf-4454-a9a4-7df21edecbd7"
      },
      "execution_count": 165,
      "outputs": [
        {
          "output_type": "display_data",
          "data": {
            "text/plain": [
              "<Figure size 2400x1000 with 10 Axes>"
            ],
            "image/png": "[encoded data removed]"
          },
          "metadata": {}
        }
      ]
    },
    {
      "cell_type": "markdown",
      "source": [
        "**Sampling one negative support vector for each class**"
      ],
      "metadata": {
        "id": "FvpxIJ-Fspzq"
      }
    },
    {
      "cell_type": "code",
      "source": [
        "ind = n_supp[6][0]\n",
        "matplot.subplots(2,5, figsize=(24,10))\n",
        "for i in range(len(n_supp[6])-1):\n",
        "    l1 = matplot.subplot(2, 5, i + 1)\n",
        "    sv_image = train_samp[sup_vec[6][ind:ind+n_supp[6][i+1]]][13]\n",
        "    l1.imshow(sv_image.reshape(16, 16), cmap=matplot.cm.RdBu)\n",
        "    l1.set_xticks(())\n",
        "    l1.set_yticks(())\n",
        "    l1.set_xlabel('Class %i vs All' % i)\n",
        "    ind = ind + n_supp[6][i+1]\n",
        "ind = 0\n",
        "l1 = matplot.subplot(2, 5, 10)\n",
        "sv_image = train_samp[sup_vec[6][ind:ind+n_supp[6][0]]][13]\n",
        "l1.imshow(sv_image.reshape(16, 16), cmap=matplot.cm.RdBu)\n",
        "l1.set_xticks(())\n",
        "l1.set_yticks(())\n",
        "l1.set_xlabel('Class 9 vs All')\n",
        "matplot.suptitle('Support Vectors for Negative Classes')\n",
        "matplot.show()"
      ],
      "metadata": {
        "colab": {
          "base_uri": "https://localhost:8080/",
          "height": 546
        },
        "id": "uVKnjvpHsrcf",
        "outputId": "21152226-8bd7-49be-a686-5bf20c723166"
      },
      "execution_count": 174,
      "outputs": [
        {
          "output_type": "display_data",
          "data": {
            "text/plain": [
              "<Figure size 2400x1000 with 10 Axes>"
            ],
            "image/png": "[encoded data removed]"
          },
          "metadata": {}
        }
      ]
    }
  ]
}